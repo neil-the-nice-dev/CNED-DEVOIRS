{
 "cells": [
  {
   "cell_type": "code",
   "execution_count": 11,
   "metadata": {},
   "outputs": [
    {
     "ename": "NameError",
     "evalue": "name 'Sudoku' is not defined",
     "output_type": "error",
     "traceback": [
      "\u001b[0;31m---------------------------------------------------------------------------\u001b[0m",
      "\u001b[0;31mNameError\u001b[0m                                 Traceback (most recent call last)",
      "Cell \u001b[0;32mIn[11], line 2\u001b[0m\n\u001b[1;32m      1\u001b[0m \u001b[38;5;28;01mfrom\u001b[39;00m \u001b[38;5;21;01msudoku\u001b[39;00m \u001b[38;5;28;01mimport\u001b[39;00m \u001b[38;5;241m*\u001b[39m\n\u001b[0;32m----> 2\u001b[0m puzzle \u001b[38;5;241m=\u001b[39m Sudoku(\u001b[38;5;241m3\u001b[39m)\u001b[38;5;241m.\u001b[39mdifficulty(\u001b[38;5;241m0.5\u001b[39m)\n",
      "\u001b[0;31mNameError\u001b[0m: name 'Sudoku' is not defined"
     ]
    }
   ],
   "source": [
    "from sudoku import *\n",
    "puzzle = Sudoku(3).difficulty(0.5)"
   ]
  },
  {
   "cell_type": "code",
   "execution_count": 12,
   "metadata": {},
   "outputs": [
    {
     "ename": "ImportError",
     "evalue": "cannot import name 'Sudoku' from 'sudoku' (/Users/torner/Documents/GitHub/CNED-DEVOIRS/sudoku/sudoku.py)",
     "output_type": "error",
     "traceback": [
      "\u001b[0;31m---------------------------------------------------------------------------\u001b[0m",
      "\u001b[0;31mImportError\u001b[0m                               Traceback (most recent call last)",
      "Cell \u001b[0;32mIn[12], line 1\u001b[0m\n\u001b[0;32m----> 1\u001b[0m \u001b[38;5;28;01mfrom\u001b[39;00m \u001b[38;5;21;01msudoku\u001b[39;00m \u001b[38;5;28;01mimport\u001b[39;00m Sudoku\n\u001b[1;32m      2\u001b[0m \u001b[38;5;66;03m# Initializes a Sudoku puzzle with 3 x 3 sub-grid and\u001b[39;00m\n\u001b[1;32m      3\u001b[0m \u001b[38;5;66;03m# generates a puzzle with half of the cells empty\u001b[39;00m\n\u001b[1;32m      4\u001b[0m puzzle \u001b[38;5;241m=\u001b[39m Sudoku(\u001b[38;5;241m3\u001b[39m)\u001b[38;5;241m.\u001b[39mdifficulty(\u001b[38;5;241m0.5\u001b[39m)\n",
      "\u001b[0;31mImportError\u001b[0m: cannot import name 'Sudoku' from 'sudoku' (/Users/torner/Documents/GitHub/CNED-DEVOIRS/sudoku/sudoku.py)"
     ]
    }
   ],
   "source": [
    "from sudoku import Sudoku\n",
    "# Initializes a Sudoku puzzle with 3 x 3 sub-grid and\n",
    "# generates a puzzle with half of the cells empty\n",
    "puzzle = Sudoku(3).difficulty(0.5)\n",
    "puzzle.show()\n",
    "# +-------+-------+-------+\n",
    "# | 4 1   | 3     | 7 6   |\n",
    "# |   9 3 |   7   | 4   1 |\n",
    "# | 2     | 1 4   |   8 3 |\n",
    "# +-------+-------+-------+\n",
    "# | 9 5 8 |       |     7 |\n",
    "# | 3 4   |     7 |   1   |\n",
    "# |   7 2 | 8 9 3 | 5 4   |\n",
    "# +-------+-------+-------+\n",
    "# |   8   | 2     | 3 7 4 |\n",
    "# |     4 |       | 1 9 5 |\n",
    "# |       |   5   | 6     |\n",
    "# +-------+-------+-------+\n",
    "\n",
    "solution = puzzle.solve()\n",
    "solution.show()\n",
    "# +-------+-------+-------+\n",
    "# | 4 1 5 | 3 8 9 | 7 6 2 |\n",
    "# | 8 9 3 | 6 7 2 | 4 5 1 |\n",
    "# | 2 6 7 | 1 4 5 | 9 8 3 |\n",
    "# +-------+-------+-------+\n",
    "# | 9 5 8 | 4 1 6 | 2 3 7 |\n",
    "# | 3 4 6 | 5 2 7 | 8 1 9 |\n",
    "# | 1 7 2 | 8 9 3 | 5 4 6 |\n",
    "# +-------+-------+-------+\n",
    "# | 5 8 9 | 2 6 1 | 3 7 4 |\n",
    "# | 6 2 4 | 7 3 8 | 1 9 5 |\n",
    "# | 7 3 1 | 9 5 4 | 6 2 8 |\n",
    "# +-------+-------+-------+\n",
    "\n",
    "solution.board\n",
    "# [[4, 1, 5, 3, 8, 9, 7, 6, 2],\n",
    "#  [8, 9, 3, 6, 7, 2, 4, 5, 1],\n",
    "#  [2, 6, 7, 1, 4, 5, 9, 8, 3],\n",
    "#  [9, 5, 8, 4, 1, 6, 2, 3, 7],\n",
    "#  [3, 4, 6, 5, 2, 7, 8, 1, 9],\n",
    "#  [1, 7, 2, 8, 9, 3, 5, 4, 6],\n",
    "#  [5, 8, 9, 2, 6, 1, 3, 7, 4],\n",
    "#  [6, 2, 4, 7, 3, 8, 1, 9, 5],\n",
    "#  [7, 3, 1, 9, 5, 4, 6, 2, 8]]\n",
    "\n",
    "solution.width\n",
    "# 3\n",
    "\n",
    "solution.height\n",
    "# 3"
   ]
  },
  {
   "cell_type": "code",
   "execution_count": null,
   "metadata": {},
   "outputs": [],
   "source": [
    "\n"
   ]
  },
  {
   "cell_type": "code",
   "execution_count": null,
   "metadata": {},
   "outputs": [],
   "source": []
  },
  {
   "cell_type": "code",
   "execution_count": null,
   "metadata": {},
   "outputs": [],
   "source": []
  },
  {
   "cell_type": "code",
   "execution_count": null,
   "metadata": {},
   "outputs": [],
   "source": []
  },
  {
   "cell_type": "code",
   "execution_count": null,
   "metadata": {},
   "outputs": [],
   "source": []
  }
 ],
 "metadata": {
  "kernelspec": {
   "display_name": "base",
   "language": "python",
   "name": "python3"
  },
  "language_info": {
   "codemirror_mode": {
    "name": "ipython",
    "version": 3
   },
   "file_extension": ".py",
   "mimetype": "text/x-python",
   "name": "python",
   "nbconvert_exporter": "python",
   "pygments_lexer": "ipython3",
   "version": "3.11.7"
  }
 },
 "nbformat": 4,
 "nbformat_minor": 2
}
