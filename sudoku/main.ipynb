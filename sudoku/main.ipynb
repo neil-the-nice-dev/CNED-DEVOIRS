{
 "cells": [
  {
   "cell_type": "code",
   "execution_count": 1,
   "metadata": {},
   "outputs": [
    {
     "ename": "SyntaxError",
     "evalue": "invalid syntax (sudoku.py, line 1)",
     "output_type": "error",
     "traceback": [
      "Traceback \u001b[0;36m(most recent call last)\u001b[0m:\n",
      "\u001b[0m  File \u001b[1;32m/opt/anaconda3/lib/python3.11/site-packages/IPython/core/interactiveshell.py:3553\u001b[0m in \u001b[1;35mrun_code\u001b[0m\n    exec(code_obj, self.user_global_ns, self.user_ns)\u001b[0m\n",
      "\u001b[0;36m  Cell \u001b[0;32mIn[1], line 1\u001b[0;36m\n\u001b[0;31m    import sudoku\u001b[0;36m\n",
      "\u001b[0;36m  File \u001b[0;32m~/Documents/GitHub/CNED-DEVOIRS/sudoku/sudoku.py:1\u001b[0;36m\u001b[0m\n\u001b[0;31m    sudoku =\u001b[0m\n\u001b[0m             ^\u001b[0m\n\u001b[0;31mSyntaxError\u001b[0m\u001b[0;31m:\u001b[0m invalid syntax\n"
     ]
    }
   ],
   "source": [
    "import sudoku\n"
   ]
  },
  {
   "cell_type": "code",
   "execution_count": null,
   "metadata": {},
   "outputs": [],
   "source": []
  },
  {
   "cell_type": "code",
   "execution_count": null,
   "metadata": {},
   "outputs": [],
   "source": []
  },
  {
   "cell_type": "code",
   "execution_count": 2,
   "metadata": {},
   "outputs": [],
   "source": []
  },
  {
   "cell_type": "code",
   "execution_count": null,
   "metadata": {},
   "outputs": [],
   "source": [
    "\n",
    "def is_valid(sudoku, i, j, val):\n",
    "    no_line= val not in sudoku[i]\n",
    "    no_col= val not in [sudoku[i][j]for i in range(9)]\n",
    "\n",
    "    return no_line and no_col\n",
    "\n",
    "def solve(sudoku, i=0, j=0):\n",
    "    if i==9:\n",
    "        for g in range (9):\n",
    "            print(sudoku[g])\n",
    "        return g\n",
    "    elif j==9:\n",
    "        return solve(sudoku, i+1, 0)\n",
    "    elif sudoku[i][j]!= 0:\n",
    "        return solve(sudoku, i, j+1)\n",
    "    for val in range(1, 10):\n",
    "        if is_valid(sudoku, i, j, val):\n",
    "            sudoku[i][j] = val\n",
    "            if solve(sudoku, i, j+1):\n",
    "                \n",
    "                return True\n",
    "            sudoku[i][j] = 0\n",
    "    return False"
   ]
  },
  {
   "cell_type": "code",
   "execution_count": 1,
   "metadata": {},
   "outputs": [
    {
     "ename": "NameError",
     "evalue": "name 'solve' is not defined",
     "output_type": "error",
     "traceback": [
      "\u001b[0;31m---------------------------------------------------------------------------\u001b[0m",
      "\u001b[0;31mNameError\u001b[0m                                 Traceback (most recent call last)",
      "Cell \u001b[0;32mIn[1], line 1\u001b[0m\n\u001b[0;32m----> 1\u001b[0m solve(sudoku)\n",
      "\u001b[0;31mNameError\u001b[0m: name 'solve' is not defined"
     ]
    }
   ],
   "source": [
    "solve(sudoku)\n"
   ]
  },
  {
   "cell_type": "code",
   "execution_count": null,
   "metadata": {},
   "outputs": [],
   "source": []
  },
  {
   "cell_type": "code",
   "execution_count": null,
   "metadata": {},
   "outputs": [],
   "source": []
  },
  {
   "cell_type": "code",
   "execution_count": null,
   "metadata": {},
   "outputs": [],
   "source": []
  },
  {
   "cell_type": "code",
   "execution_count": null,
   "metadata": {},
   "outputs": [
    {
     "name": "stdout",
     "output_type": "stream",
     "text": [
      "Bienvenue dans le résolveur de Sudoku !\n",
      "Choisissez une option :\n",
      "1. Saisir la grille manuellement\n",
      "2. Charger la grille depuis un fichier texte\n",
      "Entrée invalide. Veuillez entrer '1' ou '2'.\n",
      "Saisissez votre grille de Sudoku (9 lignes avec 9 chiffres chacun).\n",
      "Exemple : '530070000' pour une ligne. Utilisez '0' pour les cases vides.\n",
      "\n",
      "Erreur : veuillez entrer exactement 9 chiffres (par exemple : 530070000). Réessayez.\n",
      "Erreur : veuillez entrer exactement 9 chiffres (par exemple : 530070000). Réessayez.\n",
      "Erreur : veuillez entrer exactement 9 chiffres (par exemple : 530070000). Réessayez.\n",
      "Erreur : veuillez entrer exactement 9 chiffres (par exemple : 530070000). Réessayez.\n",
      "Erreur : veuillez entrer exactement 9 chiffres (par exemple : 530070000). Réessayez.\n",
      "Erreur : veuillez entrer exactement 9 chiffres (par exemple : 530070000). Réessayez.\n",
      "Erreur : veuillez entrer exactement 9 chiffres (par exemple : 530070000). Réessayez.\n",
      "Erreur : veuillez entrer exactement 9 chiffres (par exemple : 530070000). Réessayez.\n",
      "Erreur : veuillez entrer exactement 9 chiffres (par exemple : 530070000). Réessayez.\n",
      "Erreur : veuillez entrer exactement 9 chiffres (par exemple : 530070000). Réessayez.\n",
      "Erreur : veuillez entrer exactement 9 chiffres (par exemple : 530070000). Réessayez.\n",
      "Erreur : veuillez entrer exactement 9 chiffres (par exemple : 530070000). Réessayez.\n",
      "Erreur : veuillez entrer exactement 9 chiffres (par exemple : 530070000). Réessayez.\n",
      "Erreur : veuillez entrer exactement 9 chiffres (par exemple : 530070000). Réessayez.\n",
      "Erreur : veuillez entrer exactement 9 chiffres (par exemple : 530070000). Réessayez.\n",
      "Erreur : veuillez entrer exactement 9 chiffres (par exemple : 530070000). Réessayez.\n",
      "Erreur : veuillez entrer exactement 9 chiffres (par exemple : 530070000). Réessayez.\n",
      "Erreur : veuillez entrer exactement 9 chiffres (par exemple : 530070000). Réessayez.\n",
      "Erreur : veuillez entrer exactement 9 chiffres (par exemple : 530070000). Réessayez.\n",
      "Erreur : veuillez entrer exactement 9 chiffres (par exemple : 530070000). Réessayez.\n",
      "Erreur : veuillez entrer exactement 9 chiffres (par exemple : 530070000). Réessayez.\n",
      "Erreur : veuillez entrer exactement 9 chiffres (par exemple : 530070000). Réessayez.\n",
      "Erreur : veuillez entrer exactement 9 chiffres (par exemple : 530070000). Réessayez.\n",
      "Erreur : veuillez entrer exactement 9 chiffres (par exemple : 530070000). Réessayez.\n",
      "Erreur : veuillez entrer exactement 9 chiffres (par exemple : 530070000). Réessayez.\n",
      "Erreur : veuillez entrer exactement 9 chiffres (par exemple : 530070000). Réessayez.\n",
      "Erreur : veuillez entrer exactement 9 chiffres (par exemple : 530070000). Réessayez.\n",
      "Erreur : veuillez entrer exactement 9 chiffres (par exemple : 530070000). Réessayez.\n",
      "Erreur : veuillez entrer exactement 9 chiffres (par exemple : 530070000). Réessayez.\n",
      "Erreur : veuillez entrer exactement 9 chiffres (par exemple : 530070000). Réessayez.\n",
      "Erreur : veuillez entrer exactement 9 chiffres (par exemple : 530070000). Réessayez.\n",
      "Erreur : veuillez entrer exactement 9 chiffres (par exemple : 530070000). Réessayez.\n",
      "Erreur : veuillez entrer exactement 9 chiffres (par exemple : 530070000). Réessayez.\n",
      "Erreur : veuillez entrer exactement 9 chiffres (par exemple : 530070000). Réessayez.\n",
      "Erreur : veuillez entrer exactement 9 chiffres (par exemple : 530070000). Réessayez.\n",
      "Erreur : veuillez entrer exactement 9 chiffres (par exemple : 530070000). Réessayez.\n",
      "Erreur : veuillez entrer exactement 9 chiffres (par exemple : 530070000). Réessayez.\n",
      "Erreur : veuillez entrer exactement 9 chiffres (par exemple : 530070000). Réessayez.\n",
      "Erreur : veuillez entrer exactement 9 chiffres (par exemple : 530070000). Réessayez.\n",
      "Erreur : veuillez entrer exactement 9 chiffres (par exemple : 530070000). Réessayez.\n",
      "Erreur : veuillez entrer exactement 9 chiffres (par exemple : 530070000). Réessayez.\n",
      "Erreur : veuillez entrer exactement 9 chiffres (par exemple : 530070000). Réessayez.\n",
      "Erreur : veuillez entrer exactement 9 chiffres (par exemple : 530070000). Réessayez.\n",
      "Erreur : veuillez entrer exactement 9 chiffres (par exemple : 530070000). Réessayez.\n",
      "Erreur : veuillez entrer exactement 9 chiffres (par exemple : 530070000). Réessayez.\n",
      "Erreur : veuillez entrer exactement 9 chiffres (par exemple : 530070000). Réessayez.\n",
      "Erreur : veuillez entrer exactement 9 chiffres (par exemple : 530070000). Réessayez.\n",
      "Erreur : veuillez entrer exactement 9 chiffres (par exemple : 530070000). Réessayez.\n",
      "Erreur : veuillez entrer exactement 9 chiffres (par exemple : 530070000). Réessayez.\n",
      "Erreur : veuillez entrer exactement 9 chiffres (par exemple : 530070000). Réessayez.\n",
      "Erreur : veuillez entrer exactement 9 chiffres (par exemple : 530070000). Réessayez.\n",
      "Erreur : veuillez entrer exactement 9 chiffres (par exemple : 530070000). Réessayez.\n",
      "Erreur : veuillez entrer exactement 9 chiffres (par exemple : 530070000). Réessayez.\n",
      "Erreur : veuillez entrer exactement 9 chiffres (par exemple : 530070000). Réessayez.\n",
      "Erreur : veuillez entrer exactement 9 chiffres (par exemple : 530070000). Réessayez.\n",
      "Erreur : veuillez entrer exactement 9 chiffres (par exemple : 530070000). Réessayez.\n",
      "Erreur : veuillez entrer exactement 9 chiffres (par exemple : 530070000). Réessayez.\n",
      "Erreur : veuillez entrer exactement 9 chiffres (par exemple : 530070000). Réessayez.\n",
      "Erreur : veuillez entrer exactement 9 chiffres (par exemple : 530070000). Réessayez.\n",
      "Erreur : veuillez entrer exactement 9 chiffres (par exemple : 530070000). Réessayez.\n",
      "Erreur : veuillez entrer exactement 9 chiffres (par exemple : 530070000). Réessayez.\n",
      "Erreur : veuillez entrer exactement 9 chiffres (par exemple : 530070000). Réessayez.\n",
      "Erreur : veuillez entrer exactement 9 chiffres (par exemple : 530070000). Réessayez.\n",
      "Erreur : veuillez entrer exactement 9 chiffres (par exemple : 530070000). Réessayez.\n",
      "Erreur : veuillez entrer exactement 9 chiffres (par exemple : 530070000). Réessayez.\n",
      "Erreur : veuillez entrer exactement 9 chiffres (par exemple : 530070000). Réessayez.\n",
      "Erreur : veuillez entrer exactement 9 chiffres (par exemple : 530070000). Réessayez.\n",
      "Erreur : veuillez entrer exactement 9 chiffres (par exemple : 530070000). Réessayez.\n",
      "Erreur : veuillez entrer exactement 9 chiffres (par exemple : 530070000). Réessayez.\n",
      "Erreur : veuillez entrer exactement 9 chiffres (par exemple : 530070000). Réessayez.\n",
      "Erreur : veuillez entrer exactement 9 chiffres (par exemple : 530070000). Réessayez.\n",
      "Erreur : veuillez entrer exactement 9 chiffres (par exemple : 530070000). Réessayez.\n",
      "Erreur : veuillez entrer exactement 9 chiffres (par exemple : 530070000). Réessayez.\n",
      "Ligne 1 validée : 530070000\n",
      "\n",
      "Ligne 2 validée : 530070000\n",
      "\n",
      "Ligne 3 validée : 530070000\n",
      "\n",
      "Ligne 4 validée : 530070000\n",
      "\n",
      "Ligne 5 validée : 530070000\n",
      "\n",
      "Ligne 6 validée : 530070000\n",
      "\n",
      "Ligne 7 validée : 530070000\n",
      "\n",
      "Ligne 8 validée : 530070000\n",
      "\n",
      "Ligne 9 validée : 530070000\n",
      "\n",
      "\n",
      "Votre grille complète :\n",
      "5 3 . . 7 . . . .\n",
      "5 3 . . 7 . . . .\n",
      "5 3 . . 7 . . . .\n",
      "5 3 . . 7 . . . .\n",
      "5 3 . . 7 . . . .\n",
      "5 3 . . 7 . . . .\n",
      "5 3 . . 7 . . . .\n",
      "5 3 . . 7 . . . .\n",
      "5 3 . . 7 . . . .\n",
      "\n",
      "\n",
      "Résolution en cours...\n",
      "\n",
      "Impossible de résoudre ce Sudoku.\n"
     ]
    }
   ],
   "source": []
  }
 ],
 "metadata": {
  "kernelspec": {
   "display_name": "base",
   "language": "python",
   "name": "python3"
  },
  "language_info": {
   "codemirror_mode": {
    "name": "ipython",
    "version": 3
   },
   "file_extension": ".py",
   "mimetype": "text/x-python",
   "name": "python",
   "nbconvert_exporter": "python",
   "pygments_lexer": "ipython3",
   "version": "3.11.7"
  }
 },
 "nbformat": 4,
 "nbformat_minor": 2
}
