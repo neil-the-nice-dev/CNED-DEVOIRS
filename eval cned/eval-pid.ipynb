{
 "cells": [
  {
   "cell_type": "code",
   "execution_count": 40,
   "metadata": {},
   "outputs": [],
   "source": [
    "class Processus:\n",
    "    \"\"\"\"Classe representant un processus\"\"\"\n",
    "    def __init__(self, PID, instant_arrivee, duree):\n",
    "        self.PID = PID\n",
    "        self.instant_arrivee = instant_arrivee\n",
    "        self.duree = duree\n",
    "        self.fini = False\n",
    "        def executer(self):\n",
    "            print(\"execution\",self.PID)\n",
    "            if not self.fini:\n",
    "                self.duree -=1\n",
    "                if self.duree <= 0: \n",
    "                    self.fini = True\n",
    "                    print(self.PID, 'fini')\n",
    "    def ajouter_processus(liste_p, PID, instant_arrivee, duree):\n",
    "        nouveau = Processus(PID, instant_arrivee, duree)\n",
    "        liste_p.append(nouveau)\n",
    "    \n",
    "    def en_cours(liste_p, PID):  \n",
    "        for i in liste_p :\n",
    "            if not i.fini:\n",
    "                print(f'processus en cours : {i.PID}')\n",
    "                           \n",
    "    def ordonnancer(liste_p):\n",
    "        en_cours = True\n",
    "        temps = 0\n",
    "        while en_cours:\n",
    "            elu = None\n",
    "            en_cours = False\n",
    "            for p in liste_p:\n",
    "                if not p.fini:\n",
    "                    en_cours = True\n",
    "                    if not elu and p.instant_arrivee <= temps:\n",
    "                        elu = p\n",
    "                    elif elu and elu.duree > p.duree and p.instant_arrivee <= temps:\n",
    "                        elu = p\n",
    "            if elu is not None:\n",
    "                elu.executer()\n",
    "            temps += 1\n",
    "        print(\"Durée totale :\", temps)    \n",
    "            \n",
    "                        "
   ]
  },
  {
   "cell_type": "code",
   "execution_count": 41,
   "metadata": {},
   "outputs": [],
   "source": [
    "liste_p = []\n",
    "v = Processus('P1',0,4)\n",
    "\n",
    "\n"
   ]
  },
  {
   "cell_type": "code",
   "execution_count": 42,
   "metadata": {},
   "outputs": [
    {
     "ename": "TypeError",
     "evalue": "Processus.ajouter_processus() takes 4 positional arguments but 5 were given",
     "output_type": "error",
     "traceback": [
      "\u001b[0;31m---------------------------------------------------------------------------\u001b[0m",
      "\u001b[0;31mTypeError\u001b[0m                                 Traceback (most recent call last)",
      "Cell \u001b[0;32mIn[42], line 1\u001b[0m\n\u001b[0;32m----> 1\u001b[0m v\u001b[38;5;241m.\u001b[39majouter_processus(liste_p,\u001b[38;5;124m'\u001b[39m\u001b[38;5;124mP1\u001b[39m\u001b[38;5;124m'\u001b[39m,\u001b[38;5;241m0\u001b[39m, \u001b[38;5;241m8\u001b[39m)\n",
      "\u001b[0;31mTypeError\u001b[0m: Processus.ajouter_processus() takes 4 positional arguments but 5 were given"
     ]
    }
   ],
   "source": [
    "v.ajouter_processus(liste_p,'P1',0, 8)"
   ]
  },
  {
   "cell_type": "code",
   "execution_count": 33,
   "metadata": {},
   "outputs": [
    {
     "ename": "IndexError",
     "evalue": "list index out of range",
     "output_type": "error",
     "traceback": [
      "\u001b[0;31m---------------------------------------------------------------------------\u001b[0m",
      "\u001b[0;31mIndexError\u001b[0m                                Traceback (most recent call last)",
      "Cell \u001b[0;32mIn[33], line 1\u001b[0m\n\u001b[0;32m----> 1\u001b[0m liste_p[\u001b[38;5;241m0\u001b[39m]\u001b[38;5;241m.\u001b[39mexecuter()\n",
      "\u001b[0;31mIndexError\u001b[0m: list index out of range"
     ]
    }
   ],
   "source": [
    "liste_p[0].executer()\n"
   ]
  },
  {
   "cell_type": "code",
   "execution_count": null,
   "metadata": {},
   "outputs": [],
   "source": []
  }
 ],
 "metadata": {
  "kernelspec": {
   "display_name": "base",
   "language": "python",
   "name": "python3"
  },
  "language_info": {
   "codemirror_mode": {
    "name": "ipython",
    "version": 3
   },
   "file_extension": ".py",
   "mimetype": "text/x-python",
   "name": "python",
   "nbconvert_exporter": "python",
   "pygments_lexer": "ipython3",
   "version": "3.11.7"
  }
 },
 "nbformat": 4,
 "nbformat_minor": 2
}
