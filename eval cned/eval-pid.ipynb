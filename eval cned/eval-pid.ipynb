{
 "cells": [
  {
   "cell_type": "code",
   "execution_count": 15,
   "metadata": {},
   "outputs": [],
   "source": [
    "class Processus:\n",
    "    \"\"\"\"Classe representant un processus\"\"\"\n",
    "    liste_p = []\n",
    "    def __init__(self, PID, instant_arrivee, duree):\n",
    "        self.PID = PID\n",
    "        self.instant_arrivee = instant_arrivee\n",
    "        self.duree = duree\n",
    "        self.fini = False\n",
    "        def executer(self):\n",
    "            print(\"execution\",self.PID)\n",
    "            if not self.fini:\n",
    "                self.duree -=1\n",
    "                if self.duree <= 0: \n",
    "                    self.fini = True\n",
    "                    print(self.PID, 'fini')\n",
    "    def processus(self, liste_p ) :\n",
    "        print('jfjfd')                  "
   ]
  },
  {
   "cell_type": "code",
   "execution_count": 17,
   "metadata": {},
   "outputs": [
    {
     "ename": "TypeError",
     "evalue": "Processus.__init__() missing 3 required positional arguments: 'PID', 'instant_arrivee', and 'duree'",
     "output_type": "error",
     "traceback": [
      "\u001b[0;31m---------------------------------------------------------------------------\u001b[0m",
      "\u001b[0;31mTypeError\u001b[0m                                 Traceback (most recent call last)",
      "Cell \u001b[0;32mIn[17], line 1\u001b[0m\n\u001b[0;32m----> 1\u001b[0m processus \u001b[38;5;241m=\u001b[39m Processus()\n",
      "\u001b[0;31mTypeError\u001b[0m: Processus.__init__() missing 3 required positional arguments: 'PID', 'instant_arrivee', and 'duree'"
     ]
    }
   ],
   "source": [
    "processus = Processus()"
   ]
  },
  {
   "cell_type": "code",
   "execution_count": null,
   "metadata": {},
   "outputs": [],
   "source": []
  },
  {
   "cell_type": "code",
   "execution_count": null,
   "metadata": {},
   "outputs": [],
   "source": []
  },
  {
   "cell_type": "code",
   "execution_count": null,
   "metadata": {},
   "outputs": [],
   "source": []
  }
 ],
 "metadata": {
  "kernelspec": {
   "display_name": "base",
   "language": "python",
   "name": "python3"
  },
  "language_info": {
   "codemirror_mode": {
    "name": "ipython",
    "version": 3
   },
   "file_extension": ".py",
   "mimetype": "text/x-python",
   "name": "python",
   "nbconvert_exporter": "python",
   "pygments_lexer": "ipython3",
   "version": "3.11.7"
  }
 },
 "nbformat": 4,
 "nbformat_minor": 2
}
