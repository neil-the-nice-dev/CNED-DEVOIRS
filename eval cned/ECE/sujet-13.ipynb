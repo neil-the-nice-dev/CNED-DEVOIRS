{
 "cells": [
  {
   "cell_type": "code",
   "execution_count": 39,
   "metadata": {},
   "outputs": [
    {
     "name": "stdout",
     "output_type": "stream",
     "text": [
      "https://pixees.fr/informatiquelycee/term/ep/courant/13.pdf\n"
     ]
    }
   ],
   "source": [
    "\"\"\"ECE en pyton fait en 15 min /1h ez\"\"\"\n",
    "\n",
    "link = \"https://pixees.fr/informatiquelycee/term/ep/courant/13.pdf\"\n",
    "print(link)\n",
    "    \n",
    "\n",
    "\n"
   ]
  },
  {
   "cell_type": "code",
   "execution_count": 31,
   "metadata": {},
   "outputs": [],
   "source": [
    "def recherche(x, tab):\n",
    "    g = 0\n",
    "    for i in tab:\n",
    "        if tab[g]==x:\n",
    "            return g\n",
    "        g = g+1\n",
    "        if (len(tab)) == g:\n",
    "            return 'dommage'\n"
   ]
  },
  {
   "cell_type": "code",
   "execution_count": 32,
   "metadata": {},
   "outputs": [
    {
     "data": {
      "text/plain": [
       "'dommage'"
      ]
     },
     "execution_count": 32,
     "metadata": {},
     "output_type": "execute_result"
    }
   ],
   "source": [
    "recherche(1, [2, 3, 4]) # renvoie None"
   ]
  },
  {
   "cell_type": "code",
   "execution_count": 33,
   "metadata": {},
   "outputs": [
    {
     "data": {
      "text/plain": [
       "2"
      ]
     },
     "execution_count": 33,
     "metadata": {},
     "output_type": "execute_result"
    }
   ],
   "source": [
    "recherche(1, [10, 12, 1, 56])"
   ]
  },
  {
   "cell_type": "code",
   "execution_count": null,
   "metadata": {},
   "outputs": [],
   "source": []
  },
  {
   "cell_type": "code",
   "execution_count": 36,
   "metadata": {},
   "outputs": [],
   "source": [
    "def insere(tab, a):\n",
    "    \"\"\"\n",
    "    Insère l'élément a (int) dans le tableau tab (list)\n",
    "    trié par ordre croissant à sa place et renvoie le\n",
    "    nouveau tableau.\n",
    "    \"\"\"\n",
    "    tab_a = [ a ] + tab # nouveau tableau contenant a\n",
    "                        # suivi des éléments de tab\n",
    "    i=0\n",
    "    while i < len(tab) and a > tab[i]:\n",
    "            tab_a[i] = tab_a[i+1]\n",
    "            tab_a[i+1] = a\n",
    "            i = i+1\n",
    "    return tab_a"
   ]
  },
  {
   "cell_type": "code",
   "execution_count": 37,
   "metadata": {},
   "outputs": [
    {
     "data": {
      "text/plain": [
       "[1, 2, 3, 4, 5]"
      ]
     },
     "execution_count": 37,
     "metadata": {},
     "output_type": "execute_result"
    }
   ],
   "source": [
    "insere([1, 2, 4, 5], 3)"
   ]
  },
  {
   "cell_type": "code",
   "execution_count": 38,
   "metadata": {},
   "outputs": [
    {
     "data": {
      "text/plain": [
       "[1, 2, 7, 12, 14, 25, 30]"
      ]
     },
     "execution_count": 38,
     "metadata": {},
     "output_type": "execute_result"
    }
   ],
   "source": [
    "insere([1, 2, 7, 12, 14, 25], 30)"
   ]
  },
  {
   "cell_type": "code",
   "execution_count": 34,
   "metadata": {},
   "outputs": [],
   "source": [
    "tab= [1, 2, 4, 5]\n",
    "a = 3\n",
    "\n",
    "tab_a = [ a ] + tab"
   ]
  },
  {
   "cell_type": "code",
   "execution_count": 35,
   "metadata": {},
   "outputs": [
    {
     "data": {
      "text/plain": [
       "[3, 1, 2, 4, 5]"
      ]
     },
     "execution_count": 35,
     "metadata": {},
     "output_type": "execute_result"
    }
   ],
   "source": [
    "tab_a"
   ]
  },
  {
   "cell_type": "code",
   "execution_count": null,
   "metadata": {},
   "outputs": [],
   "source": []
  },
  {
   "cell_type": "code",
   "execution_count": null,
   "metadata": {},
   "outputs": [],
   "source": []
  }
 ],
 "metadata": {
  "kernelspec": {
   "display_name": "base",
   "language": "python",
   "name": "python3"
  },
  "language_info": {
   "codemirror_mode": {
    "name": "ipython",
    "version": 3
   },
   "file_extension": ".py",
   "mimetype": "text/x-python",
   "name": "python",
   "nbconvert_exporter": "python",
   "pygments_lexer": "ipython3",
   "version": "3.11.7"
  }
 },
 "nbformat": 4,
 "nbformat_minor": 2
}
