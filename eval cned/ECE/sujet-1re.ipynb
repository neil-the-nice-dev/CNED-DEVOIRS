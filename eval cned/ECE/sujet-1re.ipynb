{
 "cells": [
  {
   "cell_type": "code",
   "execution_count": null,
   "metadata": {},
   "outputs": [],
   "source": [
    "#revoir "
   ]
  },
  {
   "cell_type": "code",
   "execution_count": 1,
   "metadata": {},
   "outputs": [],
   "source": [
    "def voisins_entrants(adj, x):\n",
    "    t = []\n",
    "    for i in range(len(adj)):\n",
    "        if x in adj[i]:\n",
    "            t.append(i)\n",
    "    return t"
   ]
  },
  {
   "cell_type": "code",
   "execution_count": 2,
   "metadata": {},
   "outputs": [
    {
     "data": {
      "text/plain": [
       "[2, 3]"
      ]
     },
     "execution_count": 2,
     "metadata": {},
     "output_type": "execute_result"
    }
   ],
   "source": [
    "voisins_entrants([[1, 2], [2], [0], [0]], 0)"
   ]
  },
  {
   "cell_type": "code",
   "execution_count": null,
   "metadata": {},
   "outputs": [],
   "source": []
  },
  {
   "cell_type": "code",
   "execution_count": 4,
   "metadata": {},
   "outputs": [],
   "source": [
    "def nombre_suivant(s):\n",
    "    '''Renvoie le nombre suivant de celui representÃ© par s\n",
    "    en appliquant le procÃ©dÃ© de lecture.'''\n",
    "    resultat = ''\n",
    "    chiffre = s[0]\n",
    "    compte = 1\n",
    "    for i in range(1, len(s)): \n",
    "        if s[i] == chiffre:\n",
    "            compte = compte + 1 \n",
    "        else:\n",
    "            resultat += str(compte) + chiffre \n",
    "            chiffre = s[i] \n",
    "            compte = 1\n",
    "    lecture_chiffre = str(compte) + chiffre \n",
    "    resultat += lecture_chiffre\n",
    "    return resultat\n"
   ]
  },
  {
   "cell_type": "code",
   "execution_count": 23,
   "metadata": {},
   "outputs": [
    {
     "data": {
      "text/plain": [
       "'1112'"
      ]
     },
     "execution_count": 23,
     "metadata": {},
     "output_type": "execute_result"
    }
   ],
   "source": [
    "nombre_suivant('')"
   ]
  },
  {
   "cell_type": "code",
   "execution_count": null,
   "metadata": {},
   "outputs": [],
   "source": []
  },
  {
   "cell_type": "code",
   "execution_count": null,
   "metadata": {},
   "outputs": [],
   "source": []
  }
 ],
 "metadata": {
  "kernelspec": {
   "display_name": "base",
   "language": "python",
   "name": "python3"
  },
  "language_info": {
   "codemirror_mode": {
    "name": "ipython",
    "version": 3
   },
   "file_extension": ".py",
   "mimetype": "text/x-python",
   "name": "python",
   "nbconvert_exporter": "python",
   "pygments_lexer": "ipython3",
   "version": "3.11.7"
  }
 },
 "nbformat": 4,
 "nbformat_minor": 2
}
