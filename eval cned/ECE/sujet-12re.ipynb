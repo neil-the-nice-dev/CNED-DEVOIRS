{
 "cells": [
  {
   "cell_type": "code",
   "execution_count": 30,
   "metadata": {},
   "outputs": [
    {
     "name": "stdout",
     "output_type": "stream",
     "text": [
      "https://pixees.fr/informatiquelycee/term/ep/courant/12.pdf\n"
     ]
    }
   ],
   "source": [
    "\"\"\"ECE en pyton fait en 1h /1h difficile\"\"\"\n",
    "\n",
    "link = \"https://pixees.fr/informatiquelycee/term/ep/courant/12.pdf\"\n",
    "print(link)"
   ]
  },
  {
   "cell_type": "code",
   "execution_count": null,
   "metadata": {},
   "outputs": [],
   "source": []
  },
  {
   "cell_type": "code",
   "execution_count": 9,
   "metadata": {},
   "outputs": [],
   "source": [
    "def fusion(tab1, tab2):\n",
    "    tab = []\n",
    "    n1 = len(tab1)\n",
    "    n2 = len(tab2)\n",
    "    i = 0\n",
    "    j = 0\n",
    "    while i < n1 and j < n2 :\n",
    "        if tab1[i] > tab2[j]:\n",
    "            tab.append(tab2[j])\n",
    "            j = j + 1\n",
    "        else :\n",
    "            tab.append(tab1[i])\n",
    "            i = i + 1\n",
    "    while i < n1 :\n",
    "        tab.append(tab1[i])\n",
    "        i = i + 1\n",
    "    while j < n2 :\n",
    "        tab.append(tab2[j])\n",
    "        j = j + 1\n",
    "    return tab"
   ]
  },
  {
   "cell_type": "code",
   "execution_count": 10,
   "metadata": {},
   "outputs": [
    {
     "data": {
      "text/plain": [
       "[2, 3, 5, 5]"
      ]
     },
     "execution_count": 10,
     "metadata": {},
     "output_type": "execute_result"
    }
   ],
   "source": [
    "fusion([3, 5], [2, 5])"
   ]
  },
  {
   "cell_type": "code",
   "execution_count": null,
   "metadata": {},
   "outputs": [],
   "source": []
  },
  {
   "cell_type": "code",
   "execution_count": 12,
   "metadata": {},
   "outputs": [],
   "source": [
    "romains = {\"I\":1, \"V\":5, \"X\":10, \"L\":50, \"C\":100, \"D\":500, \"M\":1000}"
   ]
  },
  {
   "cell_type": "code",
   "execution_count": 27,
   "metadata": {},
   "outputs": [],
   "source": [
    "def traduire_romain(nombre):\n",
    "    \"\"\" Renvoie l'écriture décimale du nombre donné en chiffres romains \"\"\"\n",
    "    if len(nombre) == 1:\n",
    "        return romains[nombre]\n",
    "    elif romains[nombre[0]] >= romains[nombre[1]]:\n",
    "        return romains[nombre[0]] + traduire_romain(nombre[1:])\n",
    "    else:\n",
    "        return traduire_romain(nombre[1:])  - romains[nombre[0]]"
   ]
  },
  {
   "cell_type": "code",
   "execution_count": 28,
   "metadata": {},
   "outputs": [
    {
     "data": {
      "text/plain": [
       "1010"
      ]
     },
     "execution_count": 28,
     "metadata": {},
     "output_type": "execute_result"
    }
   ],
   "source": [
    "traduire_romain(\"MX\")"
   ]
  },
  {
   "cell_type": "code",
   "execution_count": 29,
   "metadata": {},
   "outputs": [
    {
     "data": {
      "text/plain": [
       "142"
      ]
     },
     "execution_count": 29,
     "metadata": {},
     "output_type": "execute_result"
    }
   ],
   "source": [
    "traduire_romain(\"CXLII\")"
   ]
  },
  {
   "cell_type": "code",
   "execution_count": null,
   "metadata": {},
   "outputs": [],
   "source": []
  },
  {
   "cell_type": "code",
   "execution_count": null,
   "metadata": {},
   "outputs": [],
   "source": []
  },
  {
   "cell_type": "code",
   "execution_count": null,
   "metadata": {},
   "outputs": [],
   "source": []
  }
 ],
 "metadata": {
  "kernelspec": {
   "display_name": "base",
   "language": "python",
   "name": "python3"
  },
  "language_info": {
   "codemirror_mode": {
    "name": "ipython",
    "version": 3
   },
   "file_extension": ".py",
   "mimetype": "text/x-python",
   "name": "python",
   "nbconvert_exporter": "python",
   "pygments_lexer": "ipython3",
   "version": "3.11.7"
  }
 },
 "nbformat": 4,
 "nbformat_minor": 2
}
