{
 "cells": [
  {
   "cell_type": "code",
   "execution_count": 52,
   "id": "12c948d1",
   "metadata": {},
   "outputs": [
    {
     "name": "stdout",
     "output_type": "stream",
     "text": [
      "https://pixees.fr/informatiquelycee/term/ep/courant/15.pdf\n"
     ]
    }
   ],
   "source": [
    "\"\"\"ECE en pyton fait en 1h /1h difficile\"\"\"\n",
    "\n",
    "link = \"https://pixees.fr/informatiquelycee/term/ep/courant/15.pdf\"\n",
    "print(link)"
   ]
  },
  {
   "cell_type": "code",
   "execution_count": 9,
   "id": "53e5ab52",
   "metadata": {},
   "outputs": [],
   "source": [
    "import math\n",
    "def multiplication(n1,n2):\n",
    "    u0 = 0\n",
    "    if n1 == 0 or n2 == 0:\n",
    "        return 0\n",
    "    if n1 > 0 and n2 > 0:\n",
    "        for i in range(n1):\n",
    "            u0 = u0 + n2\n",
    "        return u0    \n",
    "    if n1 < 0 and n2 > 0:\n",
    "        for i in range(abs(n1)):\n",
    "            u0 = u0 + n2\n",
    "        return -u0  \n",
    "    if n1 > 0 and n2 < 0:\n",
    "        for i in range(abs(n2)):\n",
    "            u0 = u0 + n1\n",
    "        return -u0 \n",
    "    if n1 <0 and n2 <0:\n",
    "        for i in range (abs(n2)):\n",
    "            u0 = u0 + abs(n1) \n",
    "        return u0    "
   ]
  },
  {
   "cell_type": "code",
   "execution_count": 4,
   "id": "c00becc3",
   "metadata": {},
   "outputs": [
    {
     "data": {
      "text/plain": [
       "15"
      ]
     },
     "execution_count": 4,
     "metadata": {},
     "output_type": "execute_result"
    }
   ],
   "source": [
    "multiplication(3, 5)"
   ]
  },
  {
   "cell_type": "code",
   "execution_count": 10,
   "id": "fd0a7dfb",
   "metadata": {},
   "outputs": [
    {
     "data": {
      "text/plain": [
       "32"
      ]
     },
     "execution_count": 10,
     "metadata": {},
     "output_type": "execute_result"
    }
   ],
   "source": [
    "multiplication(-4, -8)"
   ]
  },
  {
   "cell_type": "code",
   "execution_count": 13,
   "id": "21fc3dc8",
   "metadata": {},
   "outputs": [
    {
     "data": {
      "text/plain": [
       "-12"
      ]
     },
     "execution_count": 13,
     "metadata": {},
     "output_type": "execute_result"
    }
   ],
   "source": [
    "multiplication(2, -6)"
   ]
  },
  {
   "cell_type": "code",
   "execution_count": 12,
   "id": "50845445",
   "metadata": {},
   "outputs": [
    {
     "data": {
      "text/plain": [
       "0"
      ]
     },
     "execution_count": 12,
     "metadata": {},
     "output_type": "execute_result"
    }
   ],
   "source": [
    "multiplication(-2, 0)"
   ]
  },
  {
   "cell_type": "code",
   "execution_count": null,
   "id": "62176e7e",
   "metadata": {},
   "outputs": [],
   "source": []
  },
  {
   "cell_type": "code",
   "execution_count": 49,
   "id": "80284a4c",
   "metadata": {},
   "outputs": [],
   "source": [
    "def chercher(tab, x, i, j):\n",
    "    '''Renvoie l'indice de x dans tab, si x est dans tab, None sinon.\n",
    "    On suppose que tab est trié dans l'ordre croissant.'''\n",
    "    if i > j:\n",
    "        return None\n",
    "    m = (i + j) // 2\n",
    "    if tab[m]  < x:\n",
    "        return chercher(tab, x, m+1 , j)\n",
    "    elif tab[m] > x:\n",
    "        return chercher(tab, x, i , m-1)\n",
    "    else:\n",
    "        return m\n"
   ]
  },
  {
   "cell_type": "code",
   "execution_count": 50,
   "id": "b124b0d0",
   "metadata": {},
   "outputs": [],
   "source": [
    "chercher([1, 5, 6, 6, 9, 12], 7, 0, 5)"
   ]
  },
  {
   "cell_type": "code",
   "execution_count": 51,
   "id": "64a5f2f7",
   "metadata": {},
   "outputs": [
    {
     "data": {
      "text/plain": [
       "4"
      ]
     },
     "execution_count": 51,
     "metadata": {},
     "output_type": "execute_result"
    }
   ],
   "source": [
    "chercher([1, 5, 6, 6, 9, 12], 9, 0, 5)"
   ]
  },
  {
   "cell_type": "code",
   "execution_count": 26,
   "id": "7ff4128a",
   "metadata": {},
   "outputs": [],
   "source": [
    "chercher([1, 5, 6, 6, 9, 12], 6, 0, 5)"
   ]
  },
  {
   "cell_type": "code",
   "execution_count": 22,
   "id": "140cc0b4",
   "metadata": {},
   "outputs": [],
   "source": [
    "chercher([1], 0, 0, 0)"
   ]
  },
  {
   "cell_type": "code",
   "execution_count": null,
   "id": "8d72f6e1",
   "metadata": {},
   "outputs": [],
   "source": [
    "chercher([1], 1, 0, 0)"
   ]
  }
 ],
 "metadata": {
  "kernelspec": {
   "display_name": "base",
   "language": "python",
   "name": "python3"
  },
  "language_info": {
   "codemirror_mode": {
    "name": "ipython",
    "version": 3
   },
   "file_extension": ".py",
   "mimetype": "text/x-python",
   "name": "python",
   "nbconvert_exporter": "python",
   "pygments_lexer": "ipython3",
   "version": "3.11.7"
  }
 },
 "nbformat": 4,
 "nbformat_minor": 5
}
