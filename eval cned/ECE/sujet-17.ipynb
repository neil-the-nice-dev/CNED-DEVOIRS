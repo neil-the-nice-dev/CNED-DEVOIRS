{
 "cells": [
  {
   "cell_type": "code",
   "execution_count": null,
   "metadata": {},
   "outputs": [],
   "source": []
  },
  {
   "cell_type": "code",
   "execution_count": 26,
   "metadata": {},
   "outputs": [],
   "source": [
    "class Noeud:\n",
    "    def __init__(self, etiquette, gauche, droit):\n",
    "            self.v = etiquette\n",
    "            self.gauche = gauche\n",
    "            self.droit = droit\n",
    "            \n",
    "def taille(arbre):\n",
    "    if arbre == None :\n",
    "        return 0\n",
    "    return 1 + taille(arbre.gauche) + taille(arbre.droit)      \n",
    "\n",
    "def hauteur(arbre):\n",
    "    if arbre == None :\n",
    "        return -1\n",
    "    if taille(arbre)==1 :\n",
    "        return 0\n",
    "    \n",
    "    if taille(arbre.gauche) > taille(arbre.droit):\n",
    "        return taille(arbre.gauche)+1\n",
    "    if taille(arbre.gauche) < taille(arbre.droit):\n",
    "        return taille(arbre.droit)"
   ]
  },
  {
   "cell_type": "code",
   "execution_count": 27,
   "metadata": {},
   "outputs": [],
   "source": [
    "a = Noeud(1, Noeud(4, None, None),\n",
    "             Noeud(0, None,\n",
    "Noeud(7, None, None)))"
   ]
  },
  {
   "cell_type": "code",
   "execution_count": 28,
   "metadata": {},
   "outputs": [
    {
     "data": {
      "text/plain": [
       "-1"
      ]
     },
     "execution_count": 28,
     "metadata": {},
     "output_type": "execute_result"
    }
   ],
   "source": [
    "taille(a)\n",
    "hauteur(None)"
   ]
  },
  {
   "cell_type": "code",
   "execution_count": 29,
   "metadata": {},
   "outputs": [
    {
     "data": {
      "text/plain": [
       "0"
      ]
     },
     "execution_count": 29,
     "metadata": {},
     "output_type": "execute_result"
    }
   ],
   "source": [
    "hauteur(Noeud(1, None, None))"
   ]
  },
  {
   "cell_type": "code",
   "execution_count": 30,
   "metadata": {},
   "outputs": [
    {
     "data": {
      "text/plain": [
       "1"
      ]
     },
     "execution_count": 30,
     "metadata": {},
     "output_type": "execute_result"
    }
   ],
   "source": [
    "taille(Noeud(1, None, None))"
   ]
  },
  {
   "cell_type": "code",
   "execution_count": null,
   "metadata": {},
   "outputs": [],
   "source": []
  },
  {
   "cell_type": "code",
   "execution_count": 43,
   "metadata": {},
   "outputs": [],
   "source": [
    "def ajoute(indice, element, tab):\n",
    "    '''Renvoie un nouveau tableau obtenu en insérant element à l'indice indice dans le tableau tab.''' \n",
    "    nbre_elts = len(tab)\n",
    "    tab_ins = [0] * (nbre_elts + 1)\n",
    "    for i in range(indice):\n",
    "        tab_ins[i] = tab[i]\n",
    "    tab_ins[indice] = element\n",
    "    for i in range(indice + 1, nbre_elts + 1):\n",
    "        tab_ins[i] = tab[i-1]\n",
    "    return tab_ins"
   ]
  },
  {
   "cell_type": "code",
   "execution_count": 42,
   "metadata": {},
   "outputs": [
    {
     "data": {
      "text/plain": [
       "[7, 4, 8, 9]"
      ]
     },
     "execution_count": 42,
     "metadata": {},
     "output_type": "execute_result"
    }
   ],
   "source": [
    "ajoute(1, 4, [7, 8, 9])"
   ]
  },
  {
   "cell_type": "code",
   "execution_count": null,
   "metadata": {},
   "outputs": [],
   "source": []
  },
  {
   "cell_type": "code",
   "execution_count": null,
   "metadata": {},
   "outputs": [],
   "source": []
  },
  {
   "cell_type": "code",
   "execution_count": null,
   "metadata": {},
   "outputs": [],
   "source": []
  }
 ],
 "metadata": {
  "kernelspec": {
   "display_name": "base",
   "language": "python",
   "name": "python3"
  },
  "language_info": {
   "codemirror_mode": {
    "name": "ipython",
    "version": 3
   },
   "file_extension": ".py",
   "mimetype": "text/x-python",
   "name": "python",
   "nbconvert_exporter": "python",
   "pygments_lexer": "ipython3",
   "version": "3.11.7"
  }
 },
 "nbformat": 4,
 "nbformat_minor": 2
}
