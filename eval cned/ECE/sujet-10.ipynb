{
 "cells": [
  {
   "cell_type": "code",
   "execution_count": 53,
   "metadata": {},
   "outputs": [
    {
     "name": "stdout",
     "output_type": "stream",
     "text": [
      "https://pixees.fr/informatiquelycee/term/ep/courant/10.pdf\n"
     ]
    }
   ],
   "source": [
    "\"\"\"ECE en pyton fait en 30 min /1h ez\"\"\"\n",
    "\n",
    "link = \"https://pixees.fr/informatiquelycee/term/ep/courant/10.pdf\"\n",
    "print(link)"
   ]
  },
  {
   "cell_type": "code",
   "execution_count": 19,
   "metadata": {},
   "outputs": [],
   "source": [
    "def recherche(tab,x):\n",
    "    debut = 0\n",
    "    fin = len(tab)-1\n",
    "    while fin >= debut:\n",
    "        m= (debut + fin)//2\n",
    "        if tab[m] == x:\n",
    "            return m\n",
    "        elif tab[m] > x: \n",
    "            fin = m -1\n",
    "        else :\n",
    "            debut = m+1\n",
    "    return None             "
   ]
  },
  {
   "cell_type": "code",
   "execution_count": 23,
   "metadata": {},
   "outputs": [
    {
     "data": {
      "text/plain": [
       "3"
      ]
     },
     "execution_count": 23,
     "metadata": {},
     "output_type": "execute_result"
    }
   ],
   "source": [
    "recherche([2, 3, 4, 5, 6], 5)"
   ]
  },
  {
   "cell_type": "code",
   "execution_count": 24,
   "metadata": {},
   "outputs": [
    {
     "data": {
      "text/plain": [
       "False"
      ]
     },
     "execution_count": 24,
     "metadata": {},
     "output_type": "execute_result"
    }
   ],
   "source": [
    "recherche ([1,2,4],3)"
   ]
  },
  {
   "cell_type": "code",
   "execution_count": null,
   "metadata": {},
   "outputs": [],
   "source": []
  },
  {
   "cell_type": "code",
   "execution_count": 30,
   "metadata": {},
   "outputs": [],
   "source": [
    "alphabet = 'ABCDEFGHIJKLMNOPQRSTUVWXYZ'"
   ]
  },
  {
   "cell_type": "code",
   "execution_count": 51,
   "metadata": {},
   "outputs": [],
   "source": [
    "def position_alphabet(lettre):\n",
    "    '''Renvoie la position de la lettre dansl'alphabet''' \n",
    "    return ord(lettre) - ord('A')\n",
    "\n",
    "def cesar(message, decalage):\n",
    "    '''Renvoie le message codé par la méthode de César pour le decalage donné'''\n",
    "    resultat = ''\n",
    "    for c in message:\n",
    "        if 'A' <= c and c <= 'Z':\n",
    "            indice = (position_alphabet(c)+ decalage) % 26\n",
    "            resultat = resultat + alphabet[indice]\n",
    "        else:\n",
    "            resultat = resultat + c\n",
    "    return resultat"
   ]
  },
  {
   "cell_type": "code",
   "execution_count": 52,
   "metadata": {},
   "outputs": [
    {
     "data": {
      "text/plain": [
       "'FSRNSYV E XSYW. ZMZI PE QEXMIVI RWM !'"
      ]
     },
     "execution_count": 52,
     "metadata": {},
     "output_type": "execute_result"
    }
   ],
   "source": [
    "cesar('BONJOUR A TOUS. VIVE LA MATIERE NSI !', 4)"
   ]
  },
  {
   "cell_type": "code",
   "execution_count": null,
   "metadata": {},
   "outputs": [],
   "source": []
  }
 ],
 "metadata": {
  "kernelspec": {
   "display_name": "base",
   "language": "python",
   "name": "python3"
  },
  "language_info": {
   "codemirror_mode": {
    "name": "ipython",
    "version": 3
   },
   "file_extension": ".py",
   "mimetype": "text/x-python",
   "name": "python",
   "nbconvert_exporter": "python",
   "pygments_lexer": "ipython3",
   "version": "3.11.7"
  }
 },
 "nbformat": 4,
 "nbformat_minor": 2
}
