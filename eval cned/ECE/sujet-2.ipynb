{
 "cells": [
  {
   "cell_type": "code",
   "execution_count": null,
   "metadata": {},
   "outputs": [],
   "source": []
  },
  {
   "cell_type": "code",
   "execution_count": 27,
   "metadata": {},
   "outputs": [],
   "source": [
    "def max_et_indice(tab):\n",
    "    imax = 0\n",
    "    vmax = tab[0]\n",
    "    for i in range(len(tab)):\n",
    "        if tab[i] > vmax:\n",
    "            vmax = tab[i]\n",
    "            imax = i\n",
    "    return (vmax, imax)"
   ]
  },
  {
   "cell_type": "code",
   "execution_count": 30,
   "metadata": {},
   "outputs": [
    {
     "data": {
      "text/plain": [
       "(-2, 0)"
      ]
     },
     "execution_count": 30,
     "metadata": {},
     "output_type": "execute_result"
    }
   ],
   "source": [
    "max_et_indice([-2])"
   ]
  },
  {
   "cell_type": "code",
   "execution_count": null,
   "metadata": {},
   "outputs": [],
   "source": []
  },
  {
   "cell_type": "code",
   "execution_count": 65,
   "metadata": {},
   "outputs": [],
   "source": [
    "def est_un_ordre(tab):\n",
    "    '''\n",
    "    Renvoie True si tab est de longueur n et contient tous les entiers de 1 à n, False sinon\n",
    "    '''\n",
    "    n = len(tab)\n",
    "    # les entiers vus lors du parcours\n",
    "    vus = []\n",
    "    for x in tab:\n",
    "        if x <= 0 or x > n or x in vus :\n",
    "            return False \n",
    "        vus.append(x)\n",
    "    return True"
   ]
  },
  {
   "cell_type": "code",
   "execution_count": 70,
   "metadata": {},
   "outputs": [],
   "source": [
    "def nombre_points_rupture(ordre): \n",
    "    '''\n",
    "    Renvoie le nombre de point de rupture de ordre qui représente\n",
    "    un ordre de gènes de chromosome\n",
    "    '''\n",
    "    # on vérifie que ordre est un ordre de gènes\n",
    "    assert ...\n",
    "    n = len(ordre)\n",
    "    nb = 0\n",
    "    if ordre[0] != 1: # le premier n'est pas 1\n",
    "        nb = nb + 1\n",
    "    i=0\n",
    "    while i < n-1:\n",
    "        if ordre[i] - ordre[i+1] not in [-1, 1]: # l'écart n'est pas 1\n",
    "            nb = nb + 1 \n",
    "        i = i+1    \n",
    "    if ordre[i] != ordre[-1]: # le dernier n'est pas n\n",
    "        nb = nb + 1\n",
    "    return nb    "
   ]
  },
  {
   "cell_type": "code",
   "execution_count": 66,
   "metadata": {},
   "outputs": [
    {
     "data": {
      "text/plain": [
       "False"
      ]
     },
     "execution_count": 66,
     "metadata": {},
     "output_type": "execute_result"
    }
   ],
   "source": [
    "est_un_ordre([1, 3, 2, 1, 3, 6])"
   ]
  },
  {
   "cell_type": "code",
   "execution_count": 67,
   "metadata": {},
   "outputs": [
    {
     "data": {
      "text/plain": [
       "True"
      ]
     },
     "execution_count": 67,
     "metadata": {},
     "output_type": "execute_result"
    }
   ],
   "source": [
    "est_un_ordre([5, 4, 3, 6, 7, 2, 1, 8, 9])"
   ]
  },
  {
   "cell_type": "code",
   "execution_count": 71,
   "metadata": {},
   "outputs": [
    {
     "data": {
      "text/plain": [
       "4"
      ]
     },
     "execution_count": 71,
     "metadata": {},
     "output_type": "execute_result"
    }
   ],
   "source": [
    "nombre_points_rupture([5, 4, 3, 6, 7, 2, 1, 8, 9])"
   ]
  },
  {
   "cell_type": "code",
   "execution_count": null,
   "metadata": {},
   "outputs": [],
   "source": []
  },
  {
   "cell_type": "code",
   "execution_count": null,
   "metadata": {},
   "outputs": [],
   "source": []
  }
 ],
 "metadata": {
  "kernelspec": {
   "display_name": "base",
   "language": "python",
   "name": "python3"
  },
  "language_info": {
   "codemirror_mode": {
    "name": "ipython",
    "version": 3
   },
   "file_extension": ".py",
   "mimetype": "text/x-python",
   "name": "python",
   "nbconvert_exporter": "python",
   "pygments_lexer": "ipython3",
   "version": "3.11.7"
  }
 },
 "nbformat": 4,
 "nbformat_minor": 2
}
