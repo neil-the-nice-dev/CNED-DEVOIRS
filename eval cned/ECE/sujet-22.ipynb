{
 "cells": [
  {
   "cell_type": "code",
   "execution_count": 5,
   "metadata": {},
   "outputs": [],
   "source": [
    "def recherche(elt, tab):\n",
    "    res = None\n",
    "    for i in range(len(tab)):\n",
    "        if tab[i] == elt:\n",
    "            res = i\n",
    "    return res"
   ]
  },
  {
   "cell_type": "code",
   "execution_count": 6,
   "metadata": {},
   "outputs": [
    {
     "data": {
      "text/plain": [
       "2"
      ]
     },
     "execution_count": 6,
     "metadata": {},
     "output_type": "execute_result"
    }
   ],
   "source": [
    "recherche(1, [10, 12, 1, 56])"
   ]
  },
  {
   "cell_type": "code",
   "execution_count": null,
   "metadata": {},
   "outputs": [],
   "source": []
  },
  {
   "cell_type": "code",
   "execution_count": 23,
   "metadata": {},
   "outputs": [],
   "source": [
    "class AdresseIP:\n",
    "    def __init__(self, adresse):\n",
    "            self.adresse = adresse\n",
    "    def liste_octets(self):\n",
    "        \"\"\"renvoie une liste de nombres entiers,\n",
    "        la liste des octets de l'adresse IP\"\"\"\n",
    "        # Note : split découpe la chaine de caractères\n",
    "        # en fonction du séparateur\n",
    "        return [int(i) for i in self.adresse.split(\".\")]\n",
    "    def est_reservee(self):\n",
    "        \"\"\"renvoie True si l'adresse IP est une adresse réservée, False sinon\"\"\"\n",
    "        reservees = ['192.168.0.0','192.168.0.255']\n",
    "        return self.adresse in reservees \n",
    "    def adresse_suivante(self):\n",
    "        \"\"\"renvoie un objet de AdresseIP avec l'adresse\n",
    "        IP qui suit l'adresse self si elle existe et None sinon\"\"\"\n",
    "        octets = self.liste_octets()\n",
    "        if octets[3] == 254:\n",
    "            return None\n",
    "        octet_nouveau = octets[3] + 1\n",
    "        return AdresseIP('192.168.0.' + str(octet_nouveau))"
   ]
  },
  {
   "cell_type": "code",
   "execution_count": 24,
   "metadata": {},
   "outputs": [],
   "source": [
    "adresse1 = AdresseIP('192.168.0.1')\n",
    "adresse2 = AdresseIP('192.168.0.2')\n",
    "adresse3 = AdresseIP('192.168.0.0')"
   ]
  },
  {
   "cell_type": "code",
   "execution_count": 17,
   "metadata": {},
   "outputs": [
    {
     "data": {
      "text/plain": [
       "[192, 168, 0, 1]"
      ]
     },
     "execution_count": 17,
     "metadata": {},
     "output_type": "execute_result"
    }
   ],
   "source": [
    "adresse1.liste_octets()"
   ]
  },
  {
   "cell_type": "code",
   "execution_count": 16,
   "metadata": {},
   "outputs": [
    {
     "data": {
      "text/plain": [
       "False"
      ]
     },
     "execution_count": 16,
     "metadata": {},
     "output_type": "execute_result"
    }
   ],
   "source": [
    "adresse1.est_reservee()"
   ]
  },
  {
   "cell_type": "code",
   "execution_count": 25,
   "metadata": {},
   "outputs": [
    {
     "data": {
      "text/plain": [
       "True"
      ]
     },
     "execution_count": 25,
     "metadata": {},
     "output_type": "execute_result"
    }
   ],
   "source": [
    "adresse3.est_reservee()"
   ]
  },
  {
   "cell_type": "code",
   "execution_count": 27,
   "metadata": {},
   "outputs": [
    {
     "data": {
      "text/plain": [
       "'192.168.0.3'"
      ]
     },
     "execution_count": 27,
     "metadata": {},
     "output_type": "execute_result"
    }
   ],
   "source": [
    "adresse2.adresse_suivante().adresse"
   ]
  }
 ],
 "metadata": {
  "kernelspec": {
   "display_name": "base",
   "language": "python",
   "name": "python3"
  },
  "language_info": {
   "codemirror_mode": {
    "name": "ipython",
    "version": 3
   },
   "file_extension": ".py",
   "mimetype": "text/x-python",
   "name": "python",
   "nbconvert_exporter": "python",
   "pygments_lexer": "ipython3",
   "version": "3.11.7"
  }
 },
 "nbformat": 4,
 "nbformat_minor": 2
}
