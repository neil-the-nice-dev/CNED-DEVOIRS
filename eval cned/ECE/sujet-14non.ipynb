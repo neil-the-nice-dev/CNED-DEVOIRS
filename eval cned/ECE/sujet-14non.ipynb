{
 "cells": [
  {
   "cell_type": "code",
   "execution_count": null,
   "metadata": {},
   "outputs": [],
   "source": [
    "\"\"\"ECE en pyton fait en 1h /1h difficile\"\"\"\n",
    "\n",
    "link = \"https://pixees.fr/informatiquelycee/term/ep/courant/14.pdf\"\n",
    "print(link)"
   ]
  },
  {
   "cell_type": "code",
   "execution_count": null,
   "metadata": {},
   "outputs": [],
   "source": []
  },
  {
   "cell_type": "code",
   "execution_count": 39,
   "metadata": {},
   "outputs": [],
   "source": [
    "import random\n",
    "def lancer(n):\n",
    "    tlancer = []\n",
    "    for i in range(6):\n",
    "        tlancer.append(random.randint(1,6))\n",
    "    return tlancer\n",
    "\n",
    "def paire_6(tab):\n",
    "    cpt = 0\n",
    "    for v in tab:\n",
    "        if v == 6:\n",
    "            cpt = cpt + 1\n",
    "    return cpt >= 2"
   ]
  },
  {
   "cell_type": "code",
   "execution_count": 3,
   "metadata": {},
   "outputs": [
    {
     "data": {
      "text/plain": [
       "[6, 1, 4]"
      ]
     },
     "execution_count": 3,
     "metadata": {},
     "output_type": "execute_result"
    }
   ],
   "source": [
    "lancer(3)"
   ]
  },
  {
   "cell_type": "code",
   "execution_count": 11,
   "metadata": {},
   "outputs": [],
   "source": [
    "def paire_6(tab):\n",
    "    count = 0\n",
    "    for i in range (len(tab)):\n",
    "       if tab[i] == 6:\n",
    "           count +=1\n",
    "    if count >= 2:\n",
    "        return True \n",
    "    if count < 2:\n",
    "        return False        \n",
    "        "
   ]
  },
  {
   "cell_type": "code",
   "execution_count": 43,
   "metadata": {},
   "outputs": [
    {
     "name": "stdout",
     "output_type": "stream",
     "text": [
      "[4, 2, 6, 2, 5, 5]\n"
     ]
    }
   ],
   "source": [
    "lancer2 = lancer(5)\n",
    "print(lancer2)"
   ]
  },
  {
   "cell_type": "code",
   "execution_count": 44,
   "metadata": {},
   "outputs": [
    {
     "data": {
      "text/plain": [
       "False"
      ]
     },
     "execution_count": 44,
     "metadata": {},
     "output_type": "execute_result"
    }
   ],
   "source": [
    "paire_6(lancer2)"
   ]
  },
  {
   "cell_type": "code",
   "execution_count": null,
   "metadata": {},
   "outputs": [],
   "source": []
  },
  {
   "cell_type": "code",
   "execution_count": 57,
   "metadata": {},
   "outputs": [],
   "source": [
    "def nombre_lignes(image):\n",
    "    '''renvoie le nombre de lignes de l'image''' \n",
    "    return len(image)\n",
    "def nombre_colonnes(image):\n",
    "    '''renvoie la largeur de l'image''' \n",
    "    return len(image[0])\n",
    "def negatif(image):\n",
    "    '''renvoie le negatif de l'image sous la forme\n",
    "    d'une liste de listes'''\n",
    "# on cree une image de 0 aux memes dimensions\n",
    "# que le parametre image\n",
    "    nouvelle_image = [[0 for k in range(nombre_colonnes(image))]\n",
    "        for i in range(nombre_lignes(image))]\n",
    "    for i in range(nombre_lignes(image)):\n",
    "        for j in range(nombre_colonnes(image)):\n",
    "            nouvelle_image[i][j] = 255 - image[i][j]\n",
    "    return nouvelle_image\n",
    "def binaire(image, seuil):\n",
    "    '''renvoie une image binarisee de l'image sous la forme\n",
    "       d'une liste de listes contenant des 0 si la valeur\n",
    "       du pixel est strictement inferieure au seuil et 255 sinon'''\n",
    "    nouvelle_image = [[0] * nombre_colonnes(image)\n",
    "        for i in range(nombre_lignes(image))]\n",
    "    \n",
    "    for i in range(nombre_lignes(image)): \n",
    "        for j in range(nombre_colonnes(image)):\n",
    "            if image[i][j] < seuil :\n",
    "                nouvelle_image[i][j] = 0\n",
    "            else:\n",
    "                nouvelle_image[i][j] = 1\n",
    "    return nouvelle_image"
   ]
  },
  {
   "cell_type": "code",
   "execution_count": 62,
   "metadata": {},
   "outputs": [],
   "source": [
    "def nombre_lignes(image):\n",
    "    '''renvoie le nombre de lignes de l'image'''\n",
    "    return len(image) \n",
    "\n",
    "def nombre_colonnes(image):\n",
    "    '''renvoie la largeur de l'image'''\n",
    "    return len(image[0]) \n",
    "\n",
    "def negatif(image):\n",
    "    '''renvoie le negatif de l'image sous la forme\n",
    "       d'une liste de listes'''\n",
    "    # on cree une image de 0 aux memes dimensions \n",
    "    # que le parametre image\n",
    "    nouvelle_image = [[0 for k in range(nombre_colonnes(image))]\n",
    "         for i in range(nombre_lignes(image))]\n",
    "\n",
    "    for i in range(nombre_lignes(image)):\n",
    "        for j in range(nombre_colonnes(image)): \n",
    "            nouvelle_image[i][j] = 255 - image[i][j] \n",
    "    return nouvelle_image\n",
    "\n",
    "def binaire(image, seuil):\n",
    "    '''renvoie une image binarisee de l'image sous la forme\n",
    "       d'une liste de listes contenant des 0 si la valeur\n",
    "       du pixel est strictement inferieure au seuil et 1 sinon'''\n",
    "    nouvelle_image = [[0 for k in range(nombre_colonnes(image))] \n",
    "         for i in range(nombre_lignes(image))]\n",
    "\n",
    "    for i in range(nombre_lignes(image)):\n",
    "        for j in range(nombre_colonnes(image)): \n",
    "            if image[i][j] < seuil : \n",
    "                nouvelle_image[i][j] = 0 \n",
    "            else:\n",
    "                nouvelle_image[i][j] = 1 \n",
    "    return nouvelle_image"
   ]
  },
  {
   "cell_type": "code",
   "execution_count": 45,
   "metadata": {},
   "outputs": [],
   "source": [
    "img=[[20, 34, 254, 145, 6], [23, 124, 237, 225, 69],\n",
    "         [197, 174, 207, 25, 87], [255, 0, 24, 197, 189]]"
   ]
  },
  {
   "cell_type": "code",
   "execution_count": 47,
   "metadata": {},
   "outputs": [
    {
     "data": {
      "text/plain": [
       "4"
      ]
     },
     "execution_count": 47,
     "metadata": {},
     "output_type": "execute_result"
    }
   ],
   "source": [
    "nombre_lignes(img)"
   ]
  },
  {
   "cell_type": "code",
   "execution_count": 54,
   "metadata": {},
   "outputs": [
    {
     "data": {
      "text/plain": [
       "5"
      ]
     },
     "execution_count": 54,
     "metadata": {},
     "output_type": "execute_result"
    }
   ],
   "source": [
    "nombre_colonnes(img)"
   ]
  },
  {
   "cell_type": "code",
   "execution_count": 51,
   "metadata": {},
   "outputs": [
    {
     "data": {
      "text/plain": [
       "[[235, 221, 1, 110, 249],\n",
       " [232, 131, 18, 30, 186],\n",
       " [58, 81, 48, 230, 168],\n",
       " [0, 255, 231, 58, 66]]"
      ]
     },
     "execution_count": 51,
     "metadata": {},
     "output_type": "execute_result"
    }
   ],
   "source": [
    "negatif(img)"
   ]
  },
  {
   "cell_type": "code",
   "execution_count": 63,
   "metadata": {},
   "outputs": [
    {
     "data": {
      "text/plain": [
       "[[0, 0, 1, 1, 0], [0, 1, 1, 1, 0], [1, 1, 1, 0, 0], [1, 0, 0, 1, 1]]"
      ]
     },
     "execution_count": 63,
     "metadata": {},
     "output_type": "execute_result"
    }
   ],
   "source": [
    "binaire(img,120)"
   ]
  }
 ],
 "metadata": {
  "kernelspec": {
   "display_name": "base",
   "language": "python",
   "name": "python3"
  },
  "language_info": {
   "codemirror_mode": {
    "name": "ipython",
    "version": 3
   },
   "file_extension": ".py",
   "mimetype": "text/x-python",
   "name": "python",
   "nbconvert_exporter": "python",
   "pygments_lexer": "ipython3",
   "version": "3.11.7"
  }
 },
 "nbformat": 4,
 "nbformat_minor": 2
}
