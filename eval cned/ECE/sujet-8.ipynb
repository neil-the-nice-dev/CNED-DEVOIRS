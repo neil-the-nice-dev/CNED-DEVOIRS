{
 "cells": [
  {
   "cell_type": "code",
   "execution_count": 35,
   "metadata": {},
   "outputs": [
    {
     "data": {
      "text/plain": [
       "'https://pixees.fr/informatiquelycee/term/ep/courant/08.pdf'"
      ]
     },
     "execution_count": 35,
     "metadata": {},
     "output_type": "execute_result"
    }
   ],
   "source": [
    "\"\"\"ECE en pyton fait en 30 min /1h ez\"\"\"\n",
    "\n",
    "link = \"https://pixees.fr/informatiquelycee/term/ep/courant/08.pdf\"\n",
    "link\n",
    "    "
   ]
  },
  {
   "cell_type": "code",
   "execution_count": null,
   "metadata": {},
   "outputs": [],
   "source": [
    "\n",
    "tab=[2,3,4,1,2,0,10]\n",
    "def maximum_tab(tab):\n",
    "    max = 0\n",
    "    g = 0\n",
    "    for i in tab :\n",
    "        if i > tab[g] :\n",
    "           g = g+1 \n",
    "           max = i\n",
    "        else :\n",
    "            pass    \n",
    "    return max         \n",
    "            \n",
    "          "
   ]
  },
  {
   "cell_type": "code",
   "execution_count": null,
   "metadata": {},
   "outputs": [],
   "source": []
  },
  {
   "cell_type": "code",
   "execution_count": 36,
   "metadata": {},
   "outputs": [
    {
     "data": {
      "text/plain": [
       "10"
      ]
     },
     "execution_count": 36,
     "metadata": {},
     "output_type": "execute_result"
    }
   ],
   "source": [
    "maximum_tab(tab)"
   ]
  },
  {
   "cell_type": "code",
   "execution_count": null,
   "metadata": {},
   "outputs": [],
   "source": []
  },
  {
   "cell_type": "code",
   "execution_count": 21,
   "metadata": {},
   "outputs": [],
   "source": [
    "class Pile:\n",
    "    \"\"\"Classe définissant une structure de pile.\"\"\"\n",
    "    def __init__(self):\n",
    "        self.contenu = []\n",
    "    def est_vide(self):\n",
    "        \"\"\"Renvoie un booléen indiquant si la pile est vide.\"\"\"\n",
    "        return self.contenu == []\n",
    "    def empiler(self, v):\n",
    "        \"\"\"Place l'élément v au sommet de la pile\"\"\"\n",
    "        self.contenu.append(v)\n",
    "    def depiler(self):\n",
    "        \"\"\"\n",
    "        Retire et renvoie l'élément placé au sommet de la pile, si la pile n’est pas vide. Produit une erreur sinon. \"\"\"\n",
    "        assert not self.est_vide()\n",
    "        return self.contenu.pop()\n",
    "\n",
    "\n"
   ]
  },
  {
   "cell_type": "code",
   "execution_count": 38,
   "metadata": {},
   "outputs": [],
   "source": [
    "def bon_parenthesage(ch):\n",
    "    \"\"\"Renvoie un booléen indiquant si la chaîne ch est bien parenthésée\"\"\"\n",
    "    p = Pile()\n",
    "    for c in ch:\n",
    "        if c == '(':\n",
    "            p.empiler(c)\n",
    "        elif c == ')':\n",
    "           if p.est_vide():\n",
    "                return False   \n",
    "           else:\n",
    "               p.depiler()\n",
    "    return p.est_vide()"
   ]
  },
  {
   "cell_type": "code",
   "execution_count": 39,
   "metadata": {},
   "outputs": [
    {
     "data": {
      "text/plain": [
       "True"
      ]
     },
     "execution_count": 39,
     "metadata": {},
     "output_type": "execute_result"
    }
   ],
   "source": [
    "bon_parenthesage(\"(((()))(()))\")"
   ]
  }
 ],
 "metadata": {
  "kernelspec": {
   "display_name": "base",
   "language": "python",
   "name": "python3"
  },
  "language_info": {
   "codemirror_mode": {
    "name": "ipython",
    "version": 3
   },
   "file_extension": ".py",
   "mimetype": "text/x-python",
   "name": "python",
   "nbconvert_exporter": "python",
   "pygments_lexer": "ipython3",
   "version": "3.11.7"
  }
 },
 "nbformat": 4,
 "nbformat_minor": 2
}
