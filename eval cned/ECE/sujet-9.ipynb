{
 "cells": [
  {
   "cell_type": "code",
   "execution_count": 82,
   "metadata": {},
   "outputs": [
    {
     "name": "stdout",
     "output_type": "stream",
     "text": [
      "https://pixees.fr/informatiquelycee/term/ep/courant/09.pdf\n"
     ]
    }
   ],
   "source": [
    "\"\"\"ECE en pyton fait en 30 min /1h ez\"\"\"\n",
    "\n",
    "link = \"https://pixees.fr/informatiquelycee/term/ep/courant/09.pdf\"\n",
    "print(link)\n",
    "    \n",
    "\n",
    "\n",
    "\n",
    "import math"
   ]
  },
  {
   "cell_type": "code",
   "execution_count": 83,
   "metadata": {},
   "outputs": [],
   "source": [
    "def multiplication(n1,n2):\n",
    "    nombre = 0\n",
    "    for i in range (abs(n1)):\n",
    "        if n1 < 0 and n2 < 0 : \n",
    "            for i in range (abs(n1)):\n",
    "                nombre += abs(n2) \n",
    "            return nombre\n",
    "        if n1 < 0 and n2 > 0:\n",
    "            for i in range (abs(n1)):\n",
    "                nombre += abs(n2) \n",
    "            return -nombre\n",
    "        if n1 > 0 and n2 <0 :\n",
    "            for i in range (abs(n1)):\n",
    "                nombre += abs(n2) \n",
    "            return -nombre\n",
    "        if n1 > 0  and n2 >0:\n",
    "            for i in range (abs(n1)):\n",
    "                nombre += abs(n2) \n",
    "            return nombre\n",
    "        if n1 ==0 or n2==0 :\n",
    "            return 0\n",
    "            \n",
    "    \n",
    "    \n"
   ]
  },
  {
   "cell_type": "code",
   "execution_count": 37,
   "metadata": {},
   "outputs": [
    {
     "data": {
      "text/plain": [
       "12"
      ]
     },
     "execution_count": 37,
     "metadata": {},
     "output_type": "execute_result"
    }
   ],
   "source": [
    "multiplication(3,4)"
   ]
  },
  {
   "cell_type": "code",
   "execution_count": 38,
   "metadata": {},
   "outputs": [
    {
     "data": {
      "text/plain": [
       "32"
      ]
     },
     "execution_count": 38,
     "metadata": {},
     "output_type": "execute_result"
    }
   ],
   "source": [
    "multiplication(-4, -8)"
   ]
  },
  {
   "cell_type": "code",
   "execution_count": 39,
   "metadata": {},
   "outputs": [
    {
     "data": {
      "text/plain": [
       "0"
      ]
     },
     "execution_count": 39,
     "metadata": {},
     "output_type": "execute_result"
    }
   ],
   "source": [
    "multiplication(-2, 0)"
   ]
  },
  {
   "cell_type": "code",
   "execution_count": 40,
   "metadata": {},
   "outputs": [
    {
     "data": {
      "text/plain": [
       "-12"
      ]
     },
     "execution_count": 40,
     "metadata": {},
     "output_type": "execute_result"
    }
   ],
   "source": [
    "multiplication(-2, 6)"
   ]
  },
  {
   "cell_type": "code",
   "execution_count": null,
   "metadata": {},
   "outputs": [],
   "source": []
  },
  {
   "cell_type": "code",
   "execution_count": 78,
   "metadata": {},
   "outputs": [],
   "source": [
    "def dichotomie(tab, x):\n",
    "    \"\"\"\n",
    "    tab : tableau d'entiers trié dans l'ordre croissant\n",
    "    x : nombre entier\n",
    "    La fonction renvoie True si tab contient x et False sinon \"\"\"\n",
    "    \n",
    "    debut = 0\n",
    "    fin = len(tab) - 1\n",
    "    while debut <= fin:\n",
    "        m = (debut + fin)//2\n",
    "        if x == tab[m]:\n",
    "            return True \n",
    "        if x > tab[m]:\n",
    "            debut = m + 1\n",
    "        else:\n",
    "            fin = m-1\n",
    "    return False"
   ]
  },
  {
   "cell_type": "code",
   "execution_count": 79,
   "metadata": {},
   "outputs": [
    {
     "data": {
      "text/plain": [
       "True"
      ]
     },
     "execution_count": 79,
     "metadata": {},
     "output_type": "execute_result"
    }
   ],
   "source": [
    "dichotomie([15, 16, 18, 19, 23, 24, 28, 29, 31, 33],28)"
   ]
  },
  {
   "cell_type": "code",
   "execution_count": 80,
   "metadata": {},
   "outputs": [
    {
     "data": {
      "text/plain": [
       "False"
      ]
     },
     "execution_count": 80,
     "metadata": {},
     "output_type": "execute_result"
    }
   ],
   "source": [
    "dichotomie([15, 16, 18, 19, 23, 24, 28, 29, 31, 33],27)"
   ]
  }
 ],
 "metadata": {
  "kernelspec": {
   "display_name": "base",
   "language": "python",
   "name": "python3"
  },
  "language_info": {
   "codemirror_mode": {
    "name": "ipython",
    "version": 3
   },
   "file_extension": ".py",
   "mimetype": "text/x-python",
   "name": "python",
   "nbconvert_exporter": "python",
   "pygments_lexer": "ipython3",
   "version": "3.11.7"
  }
 },
 "nbformat": 4,
 "nbformat_minor": 2
}
