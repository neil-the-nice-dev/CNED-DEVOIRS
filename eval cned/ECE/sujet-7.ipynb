{
 "cells": [
  {
   "cell_type": "code",
   "execution_count": 50,
   "metadata": {},
   "outputs": [
    {
     "name": "stdout",
     "output_type": "stream",
     "text": [
      "https://pixees.fr/informatiquelycee/term/ep/courant/07.pdf\n"
     ]
    }
   ],
   "source": [
    "\"\"\"ECE en pyton fait en 30 min /1h ez\"\"\"\n",
    "link = \"https://pixees.fr/informatiquelycee/term/ep/courant/07.pdf\"\n",
    "print (link)\n",
    "\n",
    "mot = \"Hello World !\"\n"
   ]
  },
  {
   "cell_type": "code",
   "execution_count": 30,
   "metadata": {},
   "outputs": [],
   "source": [
    "def nbr_occurence(mot):   \n",
    "    \"\"\"compte le nombre occurence dans une chaine de charactere, besoin  en parametre une chaine de charatere\"\"\"\"\"\n",
    "    dico = {} \n",
    "    for i in mot :\n",
    "        if i in dico:\n",
    "            dico[i] = dico[i]+1           \n",
    "        else :\n",
    "            dico[i]=1\n",
    "    return dico    "
   ]
  },
  {
   "cell_type": "code",
   "execution_count": 31,
   "metadata": {},
   "outputs": [
    {
     "data": {
      "text/plain": [
       "{'H': 1, 'e': 1, 'l': 3, 'o': 2, ' ': 2, 'W': 1, 'r': 1, 'd': 1, '!': 1}"
      ]
     },
     "execution_count": 31,
     "metadata": {},
     "output_type": "execute_result"
    }
   ],
   "source": [
    "nbr_occurence(mot)"
   ]
  },
  {
   "cell_type": "code",
   "execution_count": null,
   "metadata": {},
   "outputs": [],
   "source": []
  },
  {
   "cell_type": "code",
   "execution_count": 45,
   "metadata": {},
   "outputs": [],
   "source": [
    "def fusion(tab1,tab2):\n",
    "    '''Fusionne deux tableaux triés et renvoie le nouveau tableau trié.'''\n",
    "    n1 = len(tab1)\n",
    "    n2 = len(tab2)\n",
    "    tab12 = [0] * (n1 + n2)\n",
    "    i1 = 0\n",
    "    i2 = 0\n",
    "    i=0\n",
    "    while i1 < n1 and i2 < n2:\n",
    "        if tab1[i1] < tab2[i2]:\n",
    "           tab12[i] = tab1[i1]\n",
    "           i1 = i1+1\n",
    "        else:\n",
    "            tab12[i] = tab2[i2]\n",
    "            i2 = i2+1\n",
    "        i += 1 \n",
    "    while i1 < n1:\n",
    "        tab12[i] = tab1[i1]\n",
    "        i1 = i1 + 1\n",
    "        i = i+1  \n",
    "    while i2 < n2:\n",
    "        tab12[i] = tab2[i2]\n",
    "        i2 = i2 + 1\n",
    "        i = i+1 \n",
    "    return tab12      "
   ]
  },
  {
   "cell_type": "code",
   "execution_count": null,
   "metadata": {},
   "outputs": [],
   "source": []
  },
  {
   "cell_type": "code",
   "execution_count": 46,
   "metadata": {},
   "outputs": [
    {
     "data": {
      "text/plain": [
       "[1, 2, 3]"
      ]
     },
     "execution_count": 46,
     "metadata": {},
     "output_type": "execute_result"
    }
   ],
   "source": [
    "fusion([1,2,3],[])\n"
   ]
  },
  {
   "cell_type": "code",
   "execution_count": 48,
   "metadata": {},
   "outputs": [
    {
     "data": {
      "text/plain": [
       "[0, 1, 6, 7, 8, 9, 10, 11]"
      ]
     },
     "execution_count": 48,
     "metadata": {},
     "output_type": "execute_result"
    }
   ],
   "source": [
    "fusion([1, 6, 10],[0, 7, 8, 9, 11])\n"
   ]
  }
 ],
 "metadata": {
  "kernelspec": {
   "display_name": "base",
   "language": "python",
   "name": "python3"
  },
  "language_info": {
   "codemirror_mode": {
    "name": "ipython",
    "version": 3
   },
   "file_extension": ".py",
   "mimetype": "text/x-python",
   "name": "python",
   "nbconvert_exporter": "python",
   "pygments_lexer": "ipython3",
   "version": "3.11.7"
  }
 },
 "nbformat": 4,
 "nbformat_minor": 2
}
