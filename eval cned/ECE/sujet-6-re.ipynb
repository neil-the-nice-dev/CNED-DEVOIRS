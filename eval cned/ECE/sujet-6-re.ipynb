{
 "cells": [
  {
   "cell_type": "code",
   "execution_count": 2,
   "metadata": {},
   "outputs": [],
   "source": [
    "def liste_puissances(a,n):\n",
    "    t = [a]\n",
    "    for i in range(1, n):\n",
    "        t.append(a*t[i-1])\n",
    "    return t"
   ]
  },
  {
   "cell_type": "code",
   "execution_count": 1,
   "metadata": {},
   "outputs": [],
   "source": [
    "def liste_puissances_borne(a, borne):\n",
    "    if a >= borne:\n",
    "        return []\n",
    "    t = [a]\n",
    "    i = 1\n",
    "    while a*t[i-1] < borne:\n",
    "        t.append(a*t[i-1])\n",
    "        i = i + 1\n",
    "    return t"
   ]
  },
  {
   "cell_type": "code",
   "execution_count": null,
   "metadata": {},
   "outputs": [],
   "source": []
  },
  {
   "cell_type": "code",
   "execution_count": 11,
   "metadata": {},
   "outputs": [],
   "source": []
  },
  {
   "cell_type": "code",
   "execution_count": 9,
   "metadata": {},
   "outputs": [
    {
     "data": {
      "text/plain": [
       "[3,\n",
       " 9,\n",
       " 27,\n",
       " 81,\n",
       " 243,\n",
       " 729,\n",
       " 2187,\n",
       " 6561,\n",
       " 19683,\n",
       " 59049,\n",
       " 177147,\n",
       " 531441,\n",
       " 1594323,\n",
       " 4782969,\n",
       " 14348907,\n",
       " 43046721,\n",
       " 129140163,\n",
       " 387420489,\n",
       " 1162261467,\n",
       " 3486784401,\n",
       " 10460353203,\n",
       " 31381059609,\n",
       " 94143178827,\n",
       " 282429536481,\n",
       " 847288609443,\n",
       " 2541865828329,\n",
       " 7625597484987,\n",
       " 22876792454961,\n",
       " 68630377364883,\n",
       " 205891132094649,\n",
       " 617673396283947,\n",
       " 1853020188851841,\n",
       " 5559060566555523,\n",
       " 16677181699666569,\n",
       " 50031545098999707,\n",
       " 150094635296999121,\n",
       " 450283905890997363,\n",
       " 1350851717672992089,\n",
       " 4052555153018976267]"
      ]
     },
     "execution_count": 9,
     "metadata": {},
     "output_type": "execute_result"
    }
   ],
   "source": [
    "liste_puissances_borne(3, 9292910000000000000)"
   ]
  },
  {
   "cell_type": "code",
   "execution_count": null,
   "metadata": {},
   "outputs": [],
   "source": []
  },
  {
   "cell_type": "code",
   "execution_count": 19,
   "metadata": {},
   "outputs": [],
   "source": [
    "dico = {\"A\": 1, \"B\": 2, \"C\": 3, \"D\": 4, \"E\": 5, \"F\": 6,\n",
    "        \"G\": 7, \"H\": 8, \"I\": 9, \"J\": 10, \"K\": 11, \"L\": 12,\n",
    "        \"M\": 13, \"N\": 14, \"O\": 15, \"P\": 16, \"Q\": 17,\n",
    "        \"R\": 18, \"S\": 19, \"T\": 20, \"U\": 21, \"V\": 22,\n",
    "        \"W\": 23, \"X\": 24, \"Y\": 25, \"Z\": 26}"
   ]
  },
  {
   "cell_type": "code",
   "execution_count": 24,
   "metadata": {},
   "outputs": [],
   "source": [
    "def codes_parfait(mot):\n",
    "    \"\"\"Renvoie un triplet\n",
    "    (code_additionne, code_concatene, mot_est_parfait) où :\n",
    "    - code_additionne est la somme des codes des lettres du mot ; - code_concatene est le code des lettres du mot concaténées ; - mot_est_parfait est un booléen indiquant si le mot est\n",
    "    ↪ parfait.\"\"\" \n",
    "    code_concatene = \"\" \n",
    "    code_additionne =  0\n",
    "    for c in mot:\n",
    "        code_concatene = code_concatene + str(dico[c])\n",
    "        code_additionne = code_additionne + dico[c]\n",
    "    code_concatene = int(code_concatene)\n",
    "    mot_est_parfait = int(code_concatene % code_additionne) == 0 \n",
    "    return code_additionne, code_concatene, mot_est_parfait"
   ]
  },
  {
   "cell_type": "code",
   "execution_count": 25,
   "metadata": {},
   "outputs": [
    {
     "data": {
      "text/plain": [
       "(50, 1612112, False)"
      ]
     },
     "execution_count": 25,
     "metadata": {},
     "output_type": "execute_result"
    }
   ],
   "source": [
    "codes_parfait(\"PAUL\")"
   ]
  },
  {
   "cell_type": "code",
   "execution_count": 26,
   "metadata": {},
   "outputs": [
    {
     "data": {
      "text/plain": [
       "(37, 1121914, True)"
      ]
     },
     "execution_count": 26,
     "metadata": {},
     "output_type": "execute_result"
    }
   ],
   "source": [
    "codes_parfait(\"ALAIN\")"
   ]
  },
  {
   "cell_type": "code",
   "execution_count": null,
   "metadata": {},
   "outputs": [],
   "source": []
  },
  {
   "cell_type": "code",
   "execution_count": null,
   "metadata": {},
   "outputs": [],
   "source": []
  },
  {
   "cell_type": "code",
   "execution_count": null,
   "metadata": {},
   "outputs": [],
   "source": []
  }
 ],
 "metadata": {
  "kernelspec": {
   "display_name": "base",
   "language": "python",
   "name": "python3"
  },
  "language_info": {
   "codemirror_mode": {
    "name": "ipython",
    "version": 3
   },
   "file_extension": ".py",
   "mimetype": "text/x-python",
   "name": "python",
   "nbconvert_exporter": "python",
   "pygments_lexer": "ipython3",
   "version": "3.11.7"
  }
 },
 "nbformat": 4,
 "nbformat_minor": 2
}
