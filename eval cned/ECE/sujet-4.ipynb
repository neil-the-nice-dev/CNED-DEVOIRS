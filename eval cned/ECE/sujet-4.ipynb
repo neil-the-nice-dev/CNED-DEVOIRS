{
 "cells": [
  {
   "cell_type": "code",
   "execution_count": null,
   "metadata": {},
   "outputs": [],
   "source": []
  },
  {
   "cell_type": "code",
   "execution_count": 36,
   "metadata": {},
   "outputs": [],
   "source": [
    "def ecriture_binaire_entier_positif(n):\n",
    "    vbin = str(n%2)\n",
    "    n = n // 2\n",
    "    while n > 0:\n",
    "        vbin = str(n%2) + vbin\n",
    "        n = n //2\n",
    "    return vbin\n",
    "\n",
    "    "
   ]
  },
  {
   "cell_type": "code",
   "execution_count": 37,
   "metadata": {},
   "outputs": [
    {
     "data": {
      "text/plain": [
       "'10001100101001'"
      ]
     },
     "execution_count": 37,
     "metadata": {},
     "output_type": "execute_result"
    }
   ],
   "source": [
    "ecriture_binaire_entier_positif(9001)"
   ]
  },
  {
   "cell_type": "code",
   "execution_count": 20,
   "metadata": {},
   "outputs": [],
   "source": [
    "hohho = str(22339)\n"
   ]
  },
  {
   "cell_type": "code",
   "execution_count": 21,
   "metadata": {},
   "outputs": [
    {
     "data": {
      "text/plain": [
       "'22339'"
      ]
     },
     "execution_count": 21,
     "metadata": {},
     "output_type": "execute_result"
    }
   ],
   "source": []
  },
  {
   "cell_type": "code",
   "execution_count": 46,
   "metadata": {},
   "outputs": [],
   "source": [
    "def echange(tab, i, j):\n",
    "    '''Echange les Ã©lÃ©ments d'indice i et j dans le tableau tab.'''\n",
    "    temp = tab[i]\n",
    "    tab[i] = tab[j]\n",
    "    tab[j] = temp\n",
    "\n",
    "def tri_bulles(tab):\n",
    "    '''Trie le tableau tab dans l'ordre croissant\n",
    "    par la mÃ©thode du tri Ã  bulles.'''\n",
    "    n = len(tab)\n",
    "    for i in range(n-1): \n",
    "        for j in range(n-i-1): \n",
    "            if tab[j] > tab[j+1]: \n",
    "                echange(tab, j, j+1) "
   ]
  },
  {
   "cell_type": "code",
   "execution_count": 47,
   "metadata": {},
   "outputs": [
    {
     "data": {
      "text/plain": [
       "[1, 2, 3, 3, 6, 7, 9]"
      ]
     },
     "execution_count": 47,
     "metadata": {},
     "output_type": "execute_result"
    }
   ],
   "source": [
    "mot = [9, 3, 7, 2, 3, 1, 6]\n",
    "tri_bulles(mot)\n",
    "mot"
   ]
  },
  {
   "cell_type": "code",
   "execution_count": null,
   "metadata": {},
   "outputs": [],
   "source": []
  },
  {
   "cell_type": "code",
   "execution_count": null,
   "metadata": {},
   "outputs": [],
   "source": []
  }
 ],
 "metadata": {
  "kernelspec": {
   "display_name": "base",
   "language": "python",
   "name": "python3"
  },
  "language_info": {
   "codemirror_mode": {
    "name": "ipython",
    "version": 3
   },
   "file_extension": ".py",
   "mimetype": "text/x-python",
   "name": "python",
   "nbconvert_exporter": "python",
   "pygments_lexer": "ipython3",
   "version": "3.11.7"
  }
 },
 "nbformat": 4,
 "nbformat_minor": 2
}
