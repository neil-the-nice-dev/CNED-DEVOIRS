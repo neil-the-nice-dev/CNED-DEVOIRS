{
 "cells": [
  {
   "cell_type": "code",
   "execution_count": null,
   "metadata": {},
   "outputs": [],
   "source": []
  },
  {
   "cell_type": "code",
   "execution_count": 3,
   "metadata": {},
   "outputs": [],
   "source": [
    "def min_et_max(tab):\n",
    "    low = tab[0]\n",
    "    high = tab[0]\n",
    "    for i in tab :\n",
    "        if i < low :\n",
    "            low = i\n",
    "        if i > high :\n",
    "            high = i   \n",
    "    return {'min': low, 'max': high}         "
   ]
  },
  {
   "cell_type": "code",
   "execution_count": 4,
   "metadata": {},
   "outputs": [
    {
     "data": {
      "text/plain": [
       "{'min': -2, 'max': 9}"
      ]
     },
     "execution_count": 4,
     "metadata": {},
     "output_type": "execute_result"
    }
   ],
   "source": [
    "min_et_max([0, 1, 4, 2, -2, 9, 3, 1, 7, 1])"
   ]
  },
  {
   "cell_type": "code",
   "execution_count": 5,
   "metadata": {},
   "outputs": [
    {
     "data": {
      "text/plain": [
       "{'min': 0, 'max': 3}"
      ]
     },
     "execution_count": 5,
     "metadata": {},
     "output_type": "execute_result"
    }
   ],
   "source": [
    "min_et_max([0, 1, 2, 3])"
   ]
  },
  {
   "cell_type": "code",
   "execution_count": null,
   "metadata": {},
   "outputs": [],
   "source": []
  },
  {
   "cell_type": "code",
   "execution_count": 19,
   "metadata": {},
   "outputs": [],
   "source": [
    "class Carte:\n",
    "    def __init__(self, c, v):\n",
    "        \"\"\"Initialise les attributs couleur (entre 1 et 4), et valeur (entre 1 et 13). \"\"\"\n",
    "        self.couleur = c\n",
    "        self.valeur = v\n",
    "    def recuperer_valeur(self):\n",
    "        \"\"\" Renvoie la valeur de la carte :\n",
    "        As, 2, ..., 10, Valet, Dame, Roi \"\"\"\n",
    "        valeurs = ['As','2', '3', '4', '5', '6', '7', '8',\n",
    "        '9', '10', 'Valet', 'Dame', 'Roi'] \n",
    "        return valeurs[self.valeur - 1]\n",
    "    def recuperer_couleur(self):\n",
    "        \"\"\" Renvoie la couleur de la carte\n",
    "        (parmi pique, coeur, carreau, trèfle). \"\"\" \n",
    "        couleurs = ['pique', 'coeur', 'carreau', 'trèfle'] \n",
    "        return couleurs[self.couleur - 1]\n",
    "class Paquet_de_cartes:\n",
    "    def __init__(self):\n",
    "        \"\"\" Initialise l'attribut contenu avec une liste des 52 objets Carte possibles rangés par valeurs croissantes en commençant par pique, puis cœur, carreau et trèfle. \"\"\"\n",
    "        self.contenu = []\n",
    "        for c in range(1, 5):\n",
    "            for v in range(1, 14):\n",
    "                self.contenu.append(Carte(c, v))\n",
    "    def recuperer_carte(self, pos):\n",
    "        \"\"\" Renvoie la carte qui se trouve à la position pos (entier compris entre 0 et 51). \"\"\"\n",
    "        \"\"\" Renvoie la carte qui se trouve Ã  la position pos \n",
    "        (entier compris entre 0 et 51). \"\"\"\n",
    "        assert pos > -1 and pos < 52, 'paramÃ¨tre pos invalide'\n",
    "        return self.contenu[pos]"
   ]
  },
  {
   "cell_type": "code",
   "execution_count": 20,
   "metadata": {},
   "outputs": [],
   "source": [
    "jeu = Paquet_de_cartes()"
   ]
  },
  {
   "cell_type": "code",
   "execution_count": 21,
   "metadata": {},
   "outputs": [],
   "source": [
    "carte1 = jeu.recuperer_carte(20)"
   ]
  },
  {
   "cell_type": "code",
   "execution_count": null,
   "metadata": {},
   "outputs": [
    {
     "ename": "AttributeError",
     "evalue": "'NoneType' object has no attribute 'recuperer_valeur'",
     "output_type": "error",
     "traceback": [
      "\u001b[0;31m---------------------------------------------------------------------------\u001b[0m",
      "\u001b[0;31mAttributeError\u001b[0m                            Traceback (most recent call last)",
      "Cell \u001b[0;32mIn[14], line 1\u001b[0m\n\u001b[0;32m----> 1\u001b[0m carte1\u001b[38;5;241m.\u001b[39mrecuperer_valeur() \\\n\u001b[1;32m      2\u001b[0m     \u001b[38;5;241m+\u001b[39m \u001b[38;5;124m\"\u001b[39m\u001b[38;5;124m de \u001b[39m\u001b[38;5;124m\"\u001b[39m \u001b[38;5;241m+\u001b[39m carte1\u001b[38;5;241m.\u001b[39mrecuperer_couleur()\n\u001b[1;32m      3\u001b[0m \u001b[38;5;124m\"\u001b[39m\u001b[38;5;124m8 de coeur\u001b[39m\u001b[38;5;124m\"\u001b[39m\n",
      "\u001b[0;31mAttributeError\u001b[0m: 'NoneType' object has no attribute 'recuperer_valeur'"
     ]
    }
   ],
   "source": []
  }
 ],
 "metadata": {
  "kernelspec": {
   "display_name": "base",
   "language": "python",
   "name": "python3"
  },
  "language_info": {
   "codemirror_mode": {
    "name": "ipython",
    "version": 3
   },
   "file_extension": ".py",
   "mimetype": "text/x-python",
   "name": "python",
   "nbconvert_exporter": "python",
   "pygments_lexer": "ipython3",
   "version": "3.11.7"
  }
 },
 "nbformat": 4,
 "nbformat_minor": 2
}
