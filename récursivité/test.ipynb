{
 "cells": [
  {
   "cell_type": "code",
   "execution_count": null,
   "metadata": {},
   "outputs": [],
   "source": [
    "\n",
    "#la récursivité est une démarche qui fait référence à l'objet même de la démarche à un moment du processus.\n",
    "# En d'autres termes, c'est une démarche dont la description mène à la répétition d'une même règle.\n",
    "\n",
    "\n",
    "\n",
    "#Les acronymes⚓︎\n",
    "#\n",
    "#Parmi les acronymes populaires qui ont une définition récursive:\n",
    "#\n",
    "#GNU (dans GNU/Linux) signifie GNU is Not Unix;\n",
    "#PHP (le langage serveur) signifie P HP: H ypertext P reprocessor\n",
    "#VISA (les cartes bancaires) signifie VISA International Service Association.\n"
   ]
  },
  {
   "cell_type": "code",
   "execution_count": 19,
   "metadata": {},
   "outputs": [],
   "source": [
    "def somme(n):\n",
    "    s =0\n",
    "    for i in range (n+1):\n",
    "        s += i \n",
    "    return s   \n",
    "\n",
    "def somrec(n):\n",
    "    if n == 0: \n",
    "        return 0\n",
    "    else :\n",
    "        return n + somrec(n-1)"
   ]
  },
  {
   "cell_type": "code",
   "execution_count": 36,
   "metadata": {},
   "outputs": [],
   "source": [
    "def puissance(x, n):\n",
    "    if n == 0:\n",
    "        return 1\n",
    "    else:\n",
    "        return puissance(x, n-1) * x"
   ]
  },
  {
   "cell_type": "code",
   "execution_count": 37,
   "metadata": {},
   "outputs": [
    {
     "data": {
      "text/plain": [
       "125"
      ]
     },
     "execution_count": 37,
     "metadata": {},
     "output_type": "execute_result"
    }
   ],
   "source": [
    "puissance(5,3)"
   ]
  },
  {
   "cell_type": "code",
   "execution_count": 66,
   "metadata": {},
   "outputs": [],
   "source": [
    "import time\n",
    "def fibo(n):\n",
    "    if n < 2: \n",
    "        return n\n",
    "    else: \n",
    "        return fibo(n-1) + fibo(n-2)"
   ]
  },
  {
   "cell_type": "code",
   "execution_count": 72,
   "metadata": {},
   "outputs": [
    {
     "name": "stdout",
     "output_type": "stream",
     "text": [
      "25.7 µs ± 190 ns per loop (mean ± std. dev. of 7 runs, 10,000 loops each)\n"
     ]
    }
   ],
   "source": [
    "%timeit fibo (12)\n"
   ]
  },
  {
   "cell_type": "code",
   "execution_count": 89,
   "metadata": {},
   "outputs": [],
   "source": [
    "def facto(n):\n",
    "    if n == 0:\n",
    "        return 1\n",
    "    else: \n",
    "        return facto(n-1)*n\n"
   ]
  },
  {
   "cell_type": "code",
   "execution_count": 93,
   "metadata": {},
   "outputs": [
    {
     "data": {
      "text/plain": [
       "6"
      ]
     },
     "execution_count": 93,
     "metadata": {},
     "output_type": "execute_result"
    }
   ],
   "source": [
    "facto(3)"
   ]
  },
  {
   "cell_type": "code",
   "execution_count": 116,
   "metadata": {},
   "outputs": [],
   "source": [
    "def rev1(c): \n",
    "    if len(c) <= 1:\n",
    "        return c\n",
    "    else :\n",
    "        return c[-1] + rev1(c[0 : -1])\n",
    "    \n",
    "def rev2(c,j):\n",
    "    if j == 0 :\n",
    "        return c[j]\n",
    "    elif j<0:\n",
    "        return ''\n",
    "    else:\n",
    "        return c[j] + rev2(c, j-1 )\n",
    "    \n",
    "def rev3(c):\n",
    "    return rev2(c, len(c)-1)         "
   ]
  },
  {
   "cell_type": "code",
   "execution_count": 119,
   "metadata": {},
   "outputs": [
    {
     "name": "stdout",
     "output_type": "stream",
     "text": [
      "6363\n",
      "zjzao\n",
      "NJAUAUuzajazo\n"
     ]
    }
   ],
   "source": [
    "print(rev1('3636'))\n",
    "print(rev2('oazjze&',4))\n",
    "print(rev3('ozajazuUAUAJN') ) \n"
   ]
  },
  {
   "cell_type": "markdown",
   "metadata": {},
   "source": []
  },
  {
   "cell_type": "code",
   "execution_count": 120,
   "metadata": {},
   "outputs": [],
   "source": [
    "def binaire(n): \n",
    "    if n == 0:\n",
    "        return ''\n",
    "    else:\n",
    "        return binaire(n//2) + str(n%2)"
   ]
  },
  {
   "cell_type": "code",
   "execution_count": 125,
   "metadata": {},
   "outputs": [
    {
     "data": {
      "text/plain": [
       "'100111101000101'"
      ]
     },
     "execution_count": 125,
     "metadata": {},
     "output_type": "execute_result"
    }
   ],
   "source": [
    "binaire(20293)"
   ]
  },
  {
   "cell_type": "code",
   "execution_count": 130,
   "metadata": {},
   "outputs": [],
   "source": [
    "def appartient1(x,t):\n",
    "    if len(t) == 0:\n",
    "        return False\n",
    "    elif t[0] == x:\n",
    "        return True\n",
    "    else :\n",
    "        return appartient1(x,t[1:])\n",
    "    \n",
    "def appartient2(x,t,i,j):\n",
    "    if i>j:\n",
    "        return False\n",
    "    elif x == t[i]:\n",
    "        True\n",
    "    else :\n",
    "        return appartient2(x, t, i+1, j)  \n",
    "    \n",
    "def appartient3(x,t):    \n",
    "    return appartient2(x,t,0,len(t)-1)"
   ]
  },
  {
   "cell_type": "code",
   "execution_count": 129,
   "metadata": {},
   "outputs": [
    {
     "data": {
      "text/plain": [
       "False"
      ]
     },
     "execution_count": 129,
     "metadata": {},
     "output_type": "execute_result"
    }
   ],
   "source": [
    "appartient1('t','jkdnkjdnzkdjnrlakea')"
   ]
  },
  {
   "cell_type": "code",
   "execution_count": 132,
   "metadata": {},
   "outputs": [],
   "source": [
    "def est_trie(t, g, d):\n",
    "    \"\"\"\n",
    "    t: tableau\n",
    "    g,d: entiers naturels\n",
    "    renvoie True si t est trié par ordre croissant entre les indices g et d (inclus),\n",
    "    False sinon.\n",
    "    \"\"\"\n",
    "    # par ordre croissant \n",
    "    return all(t[i+1] >= t[i] for i in range(g, d))\n",
    "\n",
    "def fusion(t, g, m, d):\n",
    "    \"\"\"\n",
    "    t: tableau\n",
    "    g,m,d: entiers naturels\n",
    "    ....\n",
    "    \"\"\"\n",
    "    assert est_trie(t, g, m)\n",
    "    assert est_trie(t, m+1, d)\n",
    "    \n",
    "    i, j = g, m + 1\n",
    "    aux = t[:] # réalise une copie de t\n",
    "    for k in range(g, d+1):\n",
    "        if i > m:\n",
    "            t[k] = aux[j]\n",
    "            j += 1\n",
    "        elif j > d:\n",
    "            t[k] = aux[i]\n",
    "            i += 1\n",
    "        elif aux[j] < aux[i]:\n",
    "            t[k] = aux[j]\n",
    "            j += 1\n",
    "        else:\n",
    "            t[k] = aux[i]\n",
    "            i += 1\n",
    "    \n",
    "    assert est_trie(t, g, d)"
   ]
  },
  {
   "cell_type": "code",
   "execution_count": 133,
   "metadata": {},
   "outputs": [
    {
     "ename": "AssertionError",
     "evalue": "",
     "output_type": "error",
     "traceback": [
      "\u001b[0;31m---------------------------------------------------------------------------\u001b[0m",
      "\u001b[0;31mAssertionError\u001b[0m                            Traceback (most recent call last)",
      "Cell \u001b[0;32mIn[133], line 2\u001b[0m\n\u001b[1;32m      1\u001b[0m t1 \u001b[38;5;241m=\u001b[39m [\u001b[38;5;241m1\u001b[39m,\u001b[38;5;241m3\u001b[39m,\u001b[38;5;241m7\u001b[39m,\u001b[38;5;241m-\u001b[39m\u001b[38;5;241m3\u001b[39m,\u001b[38;5;241m9\u001b[39m,\u001b[38;5;241m6\u001b[39m,\u001b[38;5;241m0\u001b[39m,\u001b[38;5;241m2\u001b[39m]\n\u001b[0;32m----> 2\u001b[0m \u001b[38;5;28mprint\u001b[39m(fusion(t1, \u001b[38;5;241m0\u001b[39m,\u001b[38;5;241m2\u001b[39m,\u001b[38;5;241m6\u001b[39m))\n",
      "Cell \u001b[0;32mIn[132], line 18\u001b[0m, in \u001b[0;36mfusion\u001b[0;34m(t, g, m, d)\u001b[0m\n\u001b[1;32m     12\u001b[0m \u001b[38;5;250m\u001b[39m\u001b[38;5;124;03m\"\"\"\u001b[39;00m\n\u001b[1;32m     13\u001b[0m \u001b[38;5;124;03mt: tableau\u001b[39;00m\n\u001b[1;32m     14\u001b[0m \u001b[38;5;124;03mg,m,d: entiers naturels\u001b[39;00m\n\u001b[1;32m     15\u001b[0m \u001b[38;5;124;03m....\u001b[39;00m\n\u001b[1;32m     16\u001b[0m \u001b[38;5;124;03m\"\"\"\u001b[39;00m\n\u001b[1;32m     17\u001b[0m \u001b[38;5;28;01massert\u001b[39;00m est_trie(t, g, m)\n\u001b[0;32m---> 18\u001b[0m \u001b[38;5;28;01massert\u001b[39;00m est_trie(t, m\u001b[38;5;241m+\u001b[39m\u001b[38;5;241m1\u001b[39m, d)\n\u001b[1;32m     20\u001b[0m i, j \u001b[38;5;241m=\u001b[39m g, m \u001b[38;5;241m+\u001b[39m \u001b[38;5;241m1\u001b[39m\n\u001b[1;32m     21\u001b[0m aux \u001b[38;5;241m=\u001b[39m t[:] \u001b[38;5;66;03m# réalise une copie de t\u001b[39;00m\n",
      "\u001b[0;31mAssertionError\u001b[0m: "
     ]
    }
   ],
   "source": [
    "t1 = [1,3,7,-3,9,6,0,2]\n",
    "print(fusion(t1, 0,2,6))"
   ]
  },
  {
   "cell_type": "code",
   "execution_count": null,
   "metadata": {},
   "outputs": [],
   "source": []
  },
  {
   "cell_type": "code",
   "execution_count": null,
   "metadata": {},
   "outputs": [],
   "source": []
  },
  {
   "cell_type": "code",
   "execution_count": 131,
   "metadata": {},
   "outputs": [],
   "source": [
    "def est_trie(t, g, d):\n",
    "    return all(t[i+1] >= t[i] for i in range(g, d))\n",
    "\n",
    "def fusion(t, g, m, d):\n",
    "    assert est_trie(t, g, m)\n",
    "    assert est_trie(t, m+1, d)\n",
    "    \n",
    "    i, j = g, m + 1\n",
    "    aux = t[:] \n",
    "    for k in range(g, d+1):\n",
    "        if i > m:\n",
    "            t[k] = aux[j]\n",
    "            j += 1 \n",
    "        elif j > d:\n",
    "            t[k] = aux[i]\n",
    "            i += 1\n",
    "        elif aux[j] < aux[i]:\n",
    "            t[k] = aux[j]\n",
    "            j += 1\n",
    "        else:\n",
    "            t[k] = aux[i]\n",
    "            i += 1\n",
    "    \n",
    "    assert est_trie(t, g, d)\n",
    "\n",
    "###########################################################################################\n",
    "def tri_aux(t, g, d):\n",
    "    \"\"\"Fonction d'assistance \"\"\"\n",
    "    if ...: # Cas de base, tableau à un élément\n",
    "        return\n",
    "    else: # cas récursif\n",
    "        m = g + (d - g) // 2 # sensiblement la moitié du tableau\n",
    "        ... # tri récursif de la partie gauche\n",
    "        ... # tri récursif de la partie droite\n",
    "        ... # fusion\n",
    "\n",
    "def tri_fusion(t):\n",
    "    tri_aux(...)"
   ]
  },
  {
   "cell_type": "code",
   "execution_count": null,
   "metadata": {},
   "outputs": [],
   "source": []
  },
  {
   "cell_type": "code",
   "execution_count": null,
   "metadata": {},
   "outputs": [],
   "source": []
  },
  {
   "cell_type": "code",
   "execution_count": null,
   "metadata": {},
   "outputs": [],
   "source": []
  }
 ],
 "metadata": {
  "kernelspec": {
   "display_name": "base",
   "language": "python",
   "name": "python3"
  },
  "language_info": {
   "codemirror_mode": {
    "name": "ipython",
    "version": 3
   },
   "file_extension": ".py",
   "mimetype": "text/x-python",
   "name": "python",
   "nbconvert_exporter": "python",
   "pygments_lexer": "ipython3",
   "version": "3.11.7"
  }
 },
 "nbformat": 4,
 "nbformat_minor": 2
}
