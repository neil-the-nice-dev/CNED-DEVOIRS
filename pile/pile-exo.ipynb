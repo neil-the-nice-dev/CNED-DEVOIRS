{
 "cells": [
  {
   "cell_type": "code",
   "execution_count": 55,
   "metadata": {},
   "outputs": [],
   "source": [
    "class MaPileDeNoms:\n",
    "    def __init__(self):\n",
    "        self.pile = [] #construction\n",
    "        self.taille_max = 10\n",
    "        self.nombre_elements = 0\n",
    "    \n",
    "    def pile_pleine(self):\n",
    "        if self.nombre_elements >= self.taille_max :\n",
    "            return True\n",
    "        else:\n",
    "            return False\n",
    "    \n",
    "    def pile_vide(self):\n",
    "        if self.nombre_elements == 0:\n",
    "            return True\n",
    "        else:\n",
    "            return False\n",
    "    \n",
    "    def empiler_element(self, element):\n",
    "        if not self.pile_pleine():\n",
    "            self.pile.append(element)\n",
    "            self.nombre_elements += 1\n",
    "    \n",
    "    def enlever_element(self,):\n",
    "        if not self.pile_vide():\n",
    "            self.pile.pop(0)\n",
    "            self.nombre_elements -= 1\n",
    "            \n",
    "    def donne_nombre_elements(self):\n",
    "        return self.nombre_elements     \n",
    "    \n",
    "    def get_P(self):\n",
    "        return self.pile        "
   ]
  },
  {
   "cell_type": "code",
   "execution_count": 56,
   "metadata": {},
   "outputs": [],
   "source": [
    "test = MaPileDeNoms()\n",
    "\n"
   ]
  },
  {
   "cell_type": "code",
   "execution_count": 58,
   "metadata": {},
   "outputs": [],
   "source": [
    "test.empiler_element(\"1\")\n",
    "test.empiler_element(\"3\")\n",
    "test.empiler_element(\"1\")\n",
    "test.empiler_element(\"383\")\n",
    "test.empiler_element(\"QQQ\")\n",
    "test.empiler_element(\"dlkzl\")\n",
    "test.empiler_element(\"makzze\")"
   ]
  },
  {
   "cell_type": "code",
   "execution_count": 64,
   "metadata": {},
   "outputs": [
    {
     "name": "stdout",
     "output_type": "stream",
     "text": [
      "['makzze']\n",
      "['makzze']\n"
     ]
    }
   ],
   "source": [
    "test.enlever_element()\n",
    "print(test.get_P())\n",
    "print(test.get_P())"
   ]
  }
 ],
 "metadata": {
  "kernelspec": {
   "display_name": "base",
   "language": "python",
   "name": "python3"
  },
  "language_info": {
   "codemirror_mode": {
    "name": "ipython",
    "version": 3
   },
   "file_extension": ".py",
   "mimetype": "text/x-python",
   "name": "python",
   "nbconvert_exporter": "python",
   "pygments_lexer": "ipython3",
   "version": "3.11.7"
  }
 },
 "nbformat": 4,
 "nbformat_minor": 2
}
