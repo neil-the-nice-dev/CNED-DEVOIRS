{
 "cells": [
  {
   "cell_type": "code",
   "execution_count": null,
   "metadata": {},
   "outputs": [],
   "source": []
  },
  {
   "cell_type": "code",
   "execution_count": 39,
   "metadata": {},
   "outputs": [],
   "source": [
    "N = 5\n",
    "\n",
    "\n",
    "def creer_file (n=N):\n",
    "\n",
    "    p = [False for _ in range (n+1)]\n",
    "\n",
    "    p[0]=0\n",
    "\n",
    "    return p \n",
    "\n",
    "\n",
    "def pilevide(p):\n",
    "\n",
    "    return p[0] == 0\n",
    "\n",
    "\n",
    "def empiler(p, val):\n",
    "\n",
    "    n = p[0]\n",
    "\n",
    "    assert (n < len(p)-1 ), ('erreur pile pleine')\n",
    "\n",
    "    n += 1\n",
    "\n",
    "    p[0]= n\n",
    "\n",
    "    p[n]= val\n",
    "\n",
    "    return p  \n",
    "\n",
    "def depiler(p):\n",
    "   n = p[0]     \n",
    "   assert not (pilevide(p)), ('erreur pile vide')\n",
    "   p[0]-=1\n",
    "   p[n] = False\n",
    "   print(p)\n",
    "   return p[n] \n",
    "\n"
   ]
  },
  {
   "cell_type": "code",
   "execution_count": 40,
   "metadata": {},
   "outputs": [
    {
     "name": "stdout",
     "output_type": "stream",
     "text": [
      "[1, 2, False, False]\n",
      "[0, False, False, False]\n",
      "False\n"
     ]
    }
   ],
   "source": [
    "p = creer_file(3)\n",
    "print(empiler(p, 2))\n",
    "print(depiler(p))"
   ]
  },
  {
   "cell_type": "code",
   "execution_count": 68,
   "metadata": {},
   "outputs": [],
   "source": [
    "def creerpile():\n",
    "    print(p)\n",
    "    return[]\n",
    "\n",
    "def lenpile(p):\n",
    "    n = len(p)\n",
    "    return n \n",
    "\n",
    "def pilevide(p):\n",
    "    return len(p) == 0 \n",
    "\n",
    "def depiler(p):\n",
    "    n = len(p)\n",
    "    p.pop()\n",
    "    print(p)\n",
    "    pass\n",
    "\n",
    "def empiler(p, val):\n",
    "    n = len(p)\n",
    "    p.append(val)\n",
    "    print(p)\n",
    "    pass\n",
    "\n",
    "def sommet(p):\n",
    "    print(p[-1])\n",
    "    pass"
   ]
  },
  {
   "cell_type": "code",
   "execution_count": 72,
   "metadata": {},
   "outputs": [
    {
     "name": "stdout",
     "output_type": "stream",
     "text": [
      "[4, 2]\n",
      "[4]\n",
      "[4, 2]\n",
      "[4, 2, 4]\n",
      "[4, 2, 4, 4]\n",
      "[4, 2, 4, 4, 4]\n",
      "[4, 2, 4, 4, 4, 4]\n",
      "[4, 2, 4, 4, 4, 4, 4]\n",
      "[4, 2, 4, 4, 4, 4, 4, 4]\n",
      "[4, 2, 4, 4, 4, 4, 4, 4, 4]\n",
      "[4, 2, 4, 4, 4, 4, 4, 4, 4, 4]\n",
      "[4, 2, 4, 4, 4, 4, 4, 4, 4]\n",
      "[4, 2, 4, 4, 4, 4, 4, 4]\n",
      "[4, 2, 4, 4, 4, 4, 4, 4]\n",
      "[4, 2, 4, 4, 4, 4, 4]\n",
      "[4, 2, 4, 4, 4, 4, 4]\n",
      "[4, 2, 4, 4, 4, 4]\n",
      "[4, 2, 4, 4, 4, 4]\n",
      "[4, 2, 4, 4, 4]\n",
      "[4, 2, 4, 4, 4]\n",
      "[4, 2, 4, 4]\n",
      "[4, 2, 4, 4]\n",
      "[4, 2, 4]\n",
      "[4, 2, 4]\n",
      "[4, 2]\n",
      "[4, 2]\n",
      "[4]\n",
      "[4]\n",
      "[]\n",
      "[]\n"
     ]
    }
   ],
   "source": [
    "p = creerpile()\n",
    "lenpile(p)\n",
    "empiler(p, 4)\n",
    "empiler(p, 2)\n",
    "empiler(p, 4)\n",
    "empiler(p, 4)\n",
    "empiler(p, 4)\n",
    "empiler(p, 4)\n",
    "empiler(p, 4)\n",
    "empiler(p, 4)\n",
    "empiler(p, 4)\n",
    "empiler(p, 4)\n",
    "depiler(p)\n",
    "while not pilevide(p):\n",
    "    depiler(p)\n",
    "    print(p)\n"
   ]
  },
  {
   "cell_type": "code",
   "execution_count": null,
   "metadata": {},
   "outputs": [],
   "source": []
  }
 ],
 "metadata": {
  "kernelspec": {
   "display_name": "Python 3",
   "language": "python",
   "name": "python3"
  },
  "language_info": {
   "codemirror_mode": {
    "name": "ipython",
    "version": 3
   },
   "file_extension": ".py",
   "mimetype": "text/x-python",
   "name": "python",
   "nbconvert_exporter": "python",
   "pygments_lexer": "ipython3",
   "version": "3.11.7"
  }
 },
 "nbformat": 4,
 "nbformat_minor": 2
}
