{
 "cells": [
  {
   "cell_type": "code",
   "execution_count": 1,
   "metadata": {},
   "outputs": [],
   "source": [
    "\"\"\"\"context : j'ai beaucoup de crepes de differentes tailles, je veux à l'aide d'une assiete et d'une spatule de trier toutes les crepes efficacement.  \"\"\"\n",
    "\n",
    "\n",
    "crepes = [9, 3, 1, 5, 7, 2, 6, 10, 11]\n",
    "\n",
    "class Pile:\n",
    "    def __init__(self):\n",
    "        self.lst = []\n",
    "    \n",
    "    def est_vide(self):\n",
    "        return len(self.lst) == 0\n",
    "    \n",
    "    def depiler(self):\n",
    "        if self.est_vide():\n",
    "            raise Exception(\"La pile est vide\")\n",
    "        return self.lst.pop()\n",
    "    \n",
    "    def longueur(self):\n",
    "        return len(self.lst)\n",
    "    \n",
    "    def empiler(self, element):\n",
    "        self.lst.append(element)\n",
    "\n",
    "def trier(crepes):\n",
    "    pile = Pile()\n",
    "    \n",
    "    for element in crepes:\n",
    "        pile.empiler(element)\n",
    "\n",
    "    pile_triee = Pile() # assiete pour nous aider\n",
    "    \n",
    "    while not pile.est_vide():\n",
    "        tmp = pile.depiler()\n",
    "        \n",
    "        # Déplacer les éléments plus grands dans la pile principale\n",
    "        while not pile_triee.est_vide() and pile_triee.lst[-1] > tmp:\n",
    "            pile.empiler(pile_triee.depiler())\n",
    "\n",
    "        pile_triee.empiler(tmp)\n",
    "\n",
    "    resultat = []\n",
    "    while not pile_triee.est_vide():\n",
    "        resultat.append(pile_triee.depiler())\n",
    "\n",
    "    return resultat\n",
    "\n",
    "\n",
    "\n"
   ]
  },
  {
   "cell_type": "code",
   "execution_count": 21,
   "metadata": {},
   "outputs": [
    {
     "name": "stdout",
     "output_type": "stream",
     "text": [
      "[11, 10, 9, 7, 6, 5, 3, 2, 1]\n"
     ]
    }
   ],
   "source": [
    "print(trier(crepes))"
   ]
  },
  {
   "cell_type": "code",
   "execution_count": 19,
   "metadata": {},
   "outputs": [
    {
     "data": {
      "text/plain": [
       "9"
      ]
     },
     "execution_count": 19,
     "metadata": {},
     "output_type": "execute_result"
    }
   ],
   "source": [
    "len(crepes)"
   ]
  },
  {
   "cell_type": "code",
   "execution_count": null,
   "metadata": {},
   "outputs": [],
   "source": []
  },
  {
   "cell_type": "code",
   "execution_count": null,
   "metadata": {},
   "outputs": [],
   "source": []
  }
 ],
 "metadata": {
  "kernelspec": {
   "display_name": "Python 3",
   "language": "python",
   "name": "python3"
  },
  "language_info": {
   "codemirror_mode": {
    "name": "ipython",
    "version": 3
   },
   "file_extension": ".py",
   "mimetype": "text/x-python",
   "name": "python",
   "nbconvert_exporter": "python",
   "pygments_lexer": "ipython3",
   "version": "3.11.7"
  }
 },
 "nbformat": 4,
 "nbformat_minor": 2
}
