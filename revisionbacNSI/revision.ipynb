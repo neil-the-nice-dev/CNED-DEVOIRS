{
 "cells": [
  {
   "cell_type": "code",
   "execution_count": null,
   "metadata": {},
   "outputs": [],
   "source": []
  },
  {
   "cell_type": "code",
   "execution_count": null,
   "metadata": {},
   "outputs": [],
   "source": []
  },
  {
   "cell_type": "code",
   "execution_count": 14,
   "metadata": {},
   "outputs": [
    {
     "name": "stdout",
     "output_type": "stream",
     "text": [
      "1\n",
      "dict_keys(['a', 'c', 'd'])\n"
     ]
    }
   ],
   "source": [
    "dictionnaire = {'a': 1, 'b': 2, 'c': 3}\n",
    "print(dictionnaire['a']) # Accès à la valeur associée à la clé 'a'\n",
    "dictionnaire['d'] = 4 # Ajout d'une nouvelle clé-valeur\n",
    "del dictionnaire['b'] # Suppression de la clé 'b'\n",
    "print(dictionnaire.keys())"
   ]
  },
  {
   "cell_type": "code",
   "execution_count": 15,
   "metadata": {},
   "outputs": [
    {
     "name": "stdout",
     "output_type": "stream",
     "text": [
      "Parcours des clés :\n",
      "Clé : a\n",
      "Clé : b\n",
      "Clé : c\n",
      "\n",
      "Parcours des valeurs :\n",
      "Valeur : 1\n",
      "Valeur : 2\n",
      "Valeur : 3\n",
      "\n",
      "Parcours des paires clé-valeur :\n",
      "Clé : a, Valeur : 1\n",
      "Clé : b, Valeur : 2\n",
      "Clé : c, Valeur : 3\n"
     ]
    }
   ],
   "source": [
    "# Exemple mettant en œuvre les trois types de boucle for sur un dictionnaire\n",
    "dictionnaire = {'a': 1, 'b': 2, 'c': 3}\n",
    "# Boucle sur les clés\n",
    "print(\"Parcours des clés :\")\n",
    "for cle in dictionnaire:\n",
    "    print(f\"Clé : {cle}\")\n",
    "# Boucle sur les valeurs\n",
    "print(\"\\nParcours des valeurs :\")\n",
    "for valeur in dictionnaire.values():\n",
    "    print(f\"Valeur : {valeur}\")\n",
    "# Boucle sur les paires clé-valeur\n",
    "print(\"\\nParcours des paires clé-valeur :\")\n",
    "for cle, valeur in dictionnaire.items():\n",
    "    print(f\"Clé : {cle}, Valeur : {valeur}\")"
   ]
  },
  {
   "cell_type": "code",
   "execution_count": 41,
   "metadata": {},
   "outputs": [],
   "source": [
    "class Noeud:\n",
    "    def __init__(self, valeur, gauche=None, droit=None):\n",
    "        self.valeur = valeur\n",
    "        self.gauche = gauche\n",
    "        self.droit = droit\n",
    "# Exemple d’arbre binaire\n",
    "racine = Noeud(40, Noeud(20, Noeud(10), Noeud(30)), Noeud(60, Noeud(50), Noeud(70)))\n",
    "# autre méthode pour implémenter l'arbre en initialisant chaque nœud étape par étape\n",
    "n10 = Noeud(10)\n",
    "n30 = Noeud(30)\n",
    "n20 = Noeud(20, n10, n30)\n",
    "n50 = Noeud(50)\n",
    "n70 = Noeud(70)\n",
    "n60 = Noeud(60, n50, n70)\n",
    "racine = Noeud(40, n20, n60)"
   ]
  },
  {
   "cell_type": "code",
   "execution_count": 46,
   "metadata": {},
   "outputs": [
    {
     "name": "stdout",
     "output_type": "stream",
     "text": [
      "Taille de l’arbre : 7\n",
      "Hauteur de l’arbre : 2\n"
     ]
    }
   ],
   "source": [
    "def taille_arbre(noeud):\n",
    "    if noeud is None:\n",
    "        return 0\n",
    "    return 1 + taille_arbre(noeud.gauche) + taille_arbre(noeud.droit)\n",
    "\n",
    "\n",
    "\n",
    "def hauteur_arbre(noeud):\n",
    "    if noeud is None:\n",
    "        return -1\n",
    "    return 1 + max(hauteur_arbre(noeud.gauche), hauteur_arbre(noeud.droit))\n",
    "print(\"Taille de l’arbre :\", taille_arbre(racine))\n",
    "print(\"Hauteur de l’arbre :\", hauteur_arbre(racine))"
   ]
  },
  {
   "cell_type": "code",
   "execution_count": 48,
   "metadata": {},
   "outputs": [],
   "source": [
    "def taille_arbre(noeud):\n",
    "    if noeud is None:\n",
    "        return 0\n",
    "    return 1 + taille_arbre(noeud.gauche) + taille_arbre(noeud.droit)\n",
    "\n",
    "\n",
    "def hauteur_arbre(noeud):\n",
    "    if noeud is None:\n",
    "        return -1\n",
    "    return 1 + max(hauteur_arbre(noeud.gauche), hauteur_arbre(noeud.droit))"
   ]
  },
  {
   "cell_type": "code",
   "execution_count": 49,
   "metadata": {},
   "outputs": [
    {
     "name": "stdout",
     "output_type": "stream",
     "text": [
      "Taille de l’arbre : 7\n",
      "Hauteur de l’arbre : 2\n"
     ]
    }
   ],
   "source": [
    "print(\"Taille de l’arbre :\", taille_arbre(racine))\n",
    "print(\"Hauteur de l’arbre :\", hauteur_arbre(racine))"
   ]
  },
  {
   "cell_type": "code",
   "execution_count": 54,
   "metadata": {},
   "outputs": [
    {
     "name": "stdout",
     "output_type": "stream",
     "text": [
      "Parcours préfixe : [40, 20, 10, 30, 60, 50, 70]\n",
      "Parcours infixe : [10, 20, 30, 40, 50, 60, 70]\n",
      "Parcours suffixe : [10, 30, 20, 50, 70, 60, 40]\n"
     ]
    }
   ],
   "source": [
    "def parcours_prefixe(noeud):\n",
    "    if noeud is not None:\n",
    "        return [noeud.valeur] + parcours_prefixe(noeud.gauche) + parcours_prefixe(noeud.droit)\n",
    "    else:\n",
    "        return []\n",
    "def parcours_infixe(noeud):\n",
    "    if noeud is not None:\n",
    "        return parcours_infixe(noeud.gauche) + [noeud.valeur] + parcours_infixe(noeud.droit)\n",
    "    else:\n",
    "        return []\n",
    "def parcours_suffixe(noeud):\n",
    "    if noeud is not None:\n",
    "        return parcours_suffixe(noeud.gauche) + parcours_suffixe(noeud.droit) + [noeud.valeur]\n",
    "    else:\n",
    "        return []\n",
    "# Résultats des parcours\n",
    "print(\"Parcours préfixe :\", parcours_prefixe(racine))\n",
    "print(\"Parcours infixe :\", parcours_infixe(racine))\n",
    "print(\"Parcours suffixe :\", parcours_suffixe(racine))"
   ]
  },
  {
   "cell_type": "code",
   "execution_count": 56,
   "metadata": {},
   "outputs": [],
   "source": [
    "def prefixe(noeud):\n",
    "    if noeud is not None:\n",
    "        return [noeud.valeur] + prefixe(noeud.gauche) + prefixe(noeud.droit)\n",
    "    else : \n",
    "        return []\n",
    "    \n",
    "    \n",
    "def sufixe(noeud):\n",
    "    if noeud is not None:\n",
    "        return  prefixe(noeud.gauche) + prefixe(noeud.droit) + [noeud.valeur]\n",
    "    else : \n",
    "        return []    \n",
    "    \n",
    "def infixe(noeud):\n",
    "    if noeud is not None:\n",
    "        return  prefixe(noeud.gauche) +[noeud.valeur]+ prefixe(noeud.droit)\n",
    "    else : \n",
    "        return []     "
   ]
  },
  {
   "cell_type": "code",
   "execution_count": 57,
   "metadata": {},
   "outputs": [
    {
     "name": "stdout",
     "output_type": "stream",
     "text": [
      "Parcours préfixe : [40, 20, 10, 30, 60, 50, 70]\n",
      "Parcours infixe : [10, 20, 30, 40, 50, 60, 70]\n",
      "Parcours suffixe : [10, 30, 20, 50, 70, 60, 40]\n"
     ]
    }
   ],
   "source": [
    "print(\"Parcours préfixe :\", parcours_prefixe(racine))\n",
    "print(\"Parcours infixe :\", parcours_infixe(racine))\n",
    "print(\"Parcours suffixe :\", parcours_suffixe(racine))"
   ]
  },
  {
   "cell_type": "code",
   "execution_count": 60,
   "metadata": {},
   "outputs": [],
   "source": [
    "def parcours_largeur(racine):\n",
    "    if not racine:\n",
    "        return []\n",
    "    file = [racine]\n",
    "    resultat = []\n",
    "    while file:\n",
    "        noeud = file.pop(0) # Récupère le premier élément de la file\n",
    "        resultat.append(noeud.valeur)\n",
    "        if noeud.gauche:\n",
    "            file.append(noeud.gauche)\n",
    "        if noeud.droit:\n",
    "            file.append(noeud.droit)\n",
    "    return resultat\n",
    "# Exemple d'utilisation\n"
   ]
  },
  {
   "cell_type": "code",
   "execution_count": 59,
   "metadata": {},
   "outputs": [
    {
     "name": "stdout",
     "output_type": "stream",
     "text": [
      "Parcours largeur : [40, 20, 60, 10, 30, 50, 70]\n"
     ]
    }
   ],
   "source": [
    "print(\"Parcours largeur :\",parcours_largeur(racine))"
   ]
  },
  {
   "cell_type": "code",
   "execution_count": 61,
   "metadata": {},
   "outputs": [],
   "source": [
    "def largeur (racine):\n",
    "    if not racine :\n",
    "        return []\n",
    "    file = [racine]\n",
    "    resultat = []\n",
    "    while file is not None :\n",
    "        noeud = file.pop(0)\n",
    "        resultat.append(noeud.valeur)\n",
    "        if noeud.gauche():\n",
    "            resultat.append(noeud.valeur)\n",
    "        if noeud.droit():\n",
    "            resultat.append(noeud.valeur)    \n",
    "    return resultat        \n",
    "            \n",
    "            "
   ]
  },
  {
   "cell_type": "code",
   "execution_count": 62,
   "metadata": {},
   "outputs": [
    {
     "name": "stdout",
     "output_type": "stream",
     "text": [
      "Recherche 30 : True\n",
      "Recherche 100 : False\n"
     ]
    }
   ],
   "source": [
    "def rechercher(noeud, valeur):\n",
    "    if noeud is None:\n",
    "        return False\n",
    "    if noeud.valeur == valeur:\n",
    "        return True\n",
    "    if valeur < noeud.valeur:\n",
    "        return rechercher(noeud.gauche, valeur)\n",
    "    return rechercher(noeud.droit, valeur)\n",
    "print(\"Recherche 30 :\", rechercher(racine, 30))\n",
    "print(\"Recherche 100 :\", rechercher(racine, 100))"
   ]
  },
  {
   "cell_type": "code",
   "execution_count": 64,
   "metadata": {},
   "outputs": [
    {
     "name": "stdout",
     "output_type": "stream",
     "text": [
      "Recherche 30 : True\n",
      "Recherche 100 : False\n"
     ]
    }
   ],
   "source": [
    "def recherche(noeud, valeur):\n",
    "    if noeud is None :\n",
    "        return False\n",
    "    if noeud.valeur == valeur:\n",
    "        return True\n",
    "    if valeur < noeud.valeur:\n",
    "        return recherche(noeud.gauche, valeur)\n",
    "    return recherche(noeud.droit, valeur)\n",
    "\n",
    "\n",
    "print(\"Recherche 30 :\", rechercher(racine, 30))\n",
    "print(\"Recherche 100 :\", rechercher(racine, 100))"
   ]
  },
  {
   "cell_type": "code",
   "execution_count": 65,
   "metadata": {},
   "outputs": [],
   "source": [
    "def insertion(noeud, valeur):\n",
    "    if noeud is None : \n",
    "        return Noeud(valeur)\n",
    "    if valeur < noeud.valeur:\n",
    "        noeud.gauche = insertion(noeud.gauche, valeur )\n",
    "    if valeur > noeud.valeur:\n",
    "        noeud.droit = insertion(noeud.droit, valeur )\n",
    "    return noeud        "
   ]
  },
  {
   "cell_type": "code",
   "execution_count": 67,
   "metadata": {},
   "outputs": [
    {
     "name": "stdout",
     "output_type": "stream",
     "text": [
      "Recherche 35 après insertion : True\n"
     ]
    }
   ],
   "source": [
    "racine = insertion(racine, 35)\n",
    "print(\"Recherche 35 après insertion :\", rechercher(racine, 35))"
   ]
  },
  {
   "cell_type": "code",
   "execution_count": null,
   "metadata": {},
   "outputs": [],
   "source": []
  },
  {
   "cell_type": "code",
   "execution_count": 68,
   "metadata": {},
   "outputs": [
    {
     "name": "stdout",
     "output_type": "stream",
     "text": [
      "Le PGCD de 91 et 77 est : 7\n"
     ]
    }
   ],
   "source": [
    "def pgcd(a, b):\n",
    "    if b == 0:\n",
    "        return a\n",
    "    else:\n",
    "        return pgcd(b, a % b)\n",
    "    # Exemple d'utilisation\n",
    "a = 91\n",
    "b = 77\n",
    "print(\"Le PGCD de\", a, \"et\", b, \"est :\", pgcd(a, b))"
   ]
  },
  {
   "cell_type": "code",
   "execution_count": 69,
   "metadata": {},
   "outputs": [],
   "source": [
    "def dicho(x, tab):\n",
    "    max = len(tab)\n",
    "    min = 0 \n",
    "    while min < max :\n",
    "        m = (max -  min)//2\n",
    "        if x > tab[m]:\n",
    "            max = m +1\n",
    "        else : \n",
    "            min = m    "
   ]
  },
  {
   "cell_type": "code",
   "execution_count": null,
   "metadata": {},
   "outputs": [],
   "source": []
  }
 ],
 "metadata": {
  "kernelspec": {
   "display_name": "base",
   "language": "python",
   "name": "python3"
  },
  "language_info": {
   "codemirror_mode": {
    "name": "ipython",
    "version": 3
   },
   "file_extension": ".py",
   "mimetype": "text/x-python",
   "name": "python",
   "nbconvert_exporter": "python",
   "pygments_lexer": "ipython3",
   "version": "3.11.7"
  }
 },
 "nbformat": 4,
 "nbformat_minor": 2
}
