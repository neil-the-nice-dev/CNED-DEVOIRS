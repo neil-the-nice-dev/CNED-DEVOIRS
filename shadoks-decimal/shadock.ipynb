{
 "cells": [
  {
   "cell_type": "code",
   "execution_count": 92,
   "metadata": {},
   "outputs": [],
   "source": [
    "# ce code te permet de convertir un language SHadock en decimal \n",
    "\n",
    "base4 = { 'GA' : 00,\n",
    "         'BU' : 1,\n",
    "         'ZO' : 10,\n",
    "         'MEU' : 11}\n",
    "\n",
    "mot = 'BU MEU ZO MEU GA GA'"
   ]
  },
  {
   "cell_type": "code",
   "execution_count": 93,
   "metadata": {},
   "outputs": [],
   "source": [
    "def convert(base4):\n",
    "    secret = ''\n",
    "    for element in mot.split():\n",
    "        secret = secret + str(base4[element])\n",
    "    return secret"
   ]
  },
  {
   "cell_type": "code",
   "execution_count": 94,
   "metadata": {},
   "outputs": [
    {
     "name": "stdout",
     "output_type": "stream",
     "text": [
      "492\n"
     ]
    }
   ],
   "source": [
    "binaire = convert(base4)\n",
    "decimal = int(binaire,2)\n",
    "print(decimal)\n"
   ]
  }
 ],
 "metadata": {
  "kernelspec": {
   "display_name": "base",
   "language": "python",
   "name": "python3"
  },
  "language_info": {
   "codemirror_mode": {
    "name": "ipython",
    "version": 3
   },
   "file_extension": ".py",
   "mimetype": "text/x-python",
   "name": "python",
   "nbconvert_exporter": "python",
   "pygments_lexer": "ipython3",
   "version": "3.11.7"
  }
 },
 "nbformat": 4,
 "nbformat_minor": 2
}
