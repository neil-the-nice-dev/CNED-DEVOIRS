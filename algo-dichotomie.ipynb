{
 "cells": [
  {
   "cell_type": "code",
   "execution_count": 9,
   "metadata": {},
   "outputs": [],
   "source": [
    "from math import *\n",
    "#parameters\n",
    "n=int(input('tu dois trouver à cb puissance de 10** cb '))\n",
    "a= int(input('limite borne a'))\n",
    "b= int(input('limite borne b'))"
   ]
  },
  {
   "cell_type": "code",
   "execution_count": 27,
   "metadata": {},
   "outputs": [],
   "source": [
    "#fonction\n",
    "def f(x):\n",
    "   return  exp(x)+x-2\n",
    "\n",
    "\n",
    "def dicho(n):\n",
    "    (a,b)=0,1\n",
    "    while b-a>10**(-n):\n",
    "        \n",
    "        h=(a+b)/2\n",
    "        if f(a)*f(h)<0:\n",
    "            b=h\n",
    "        else:\n",
    "            a=h\n",
    "    return a,b"
   ]
  },
  {
   "cell_type": "code",
   "execution_count": 28,
   "metadata": {},
   "outputs": [
    {
     "data": {
      "text/plain": [
       "(0.44284820556640625, 0.4428558349609375)"
      ]
     },
     "execution_count": 28,
     "metadata": {},
     "output_type": "execute_result"
    }
   ],
   "source": [
    "dicho(5)"
   ]
  },
  {
   "cell_type": "code",
   "execution_count": null,
   "metadata": {},
   "outputs": [],
   "source": []
  },
  {
   "cell_type": "code",
   "execution_count": null,
   "metadata": {},
   "outputs": [],
   "source": []
  }
 ],
 "metadata": {
  "kernelspec": {
   "display_name": "Python 3",
   "language": "python",
   "name": "python3"
  },
  "language_info": {
   "codemirror_mode": {
    "name": "ipython",
    "version": 3
   },
   "file_extension": ".py",
   "mimetype": "text/x-python",
   "name": "python",
   "nbconvert_exporter": "python",
   "pygments_lexer": "ipython3",
   "version": "3.11.7"
  }
 },
 "nbformat": 4,
 "nbformat_minor": 2
}
