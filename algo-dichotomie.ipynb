{
 "cells": [
  {
   "cell_type": "code",
   "execution_count": 29,
   "metadata": {},
   "outputs": [],
   "source": [
    "from math import *\n",
    "#parameters\n",
    "n=int(input('tu dois trouver à cb puissance de 10** cb '))\n",
    "a= int(input('limite borne a'))\n",
    "b= int(input('limite borne b'))"
   ]
  },
  {
   "cell_type": "code",
   "execution_count": 36,
   "metadata": {},
   "outputs": [],
   "source": [
    "#fonction\n",
    "def f(x):\n",
    "   return  x**3- 6*x +3\n",
    "\n",
    "\n",
    "def dicho(n):\n",
    "    (a,b)=0,2\n",
    "    while b-a>10**(-n):\n",
    "        h=(a+b)/2\n",
    "        if f(a)*f(h)<0:\n",
    "            b=h\n",
    "        else:\n",
    "            a=h\n",
    "    return a,b"
   ]
  },
  {
   "cell_type": "code",
   "execution_count": 35,
   "metadata": {},
   "outputs": [
    {
     "data": {
      "text/plain": [
       "(0.5239715576171875, 0.5239791870117188)"
      ]
     },
     "execution_count": 35,
     "metadata": {},
     "output_type": "execute_result"
    }
   ],
   "source": [
    "dicho(5)"
   ]
  },
  {
   "cell_type": "code",
   "execution_count": null,
   "metadata": {},
   "outputs": [],
   "source": []
  },
  {
   "cell_type": "code",
   "execution_count": null,
   "metadata": {},
   "outputs": [],
   "source": []
  }
 ],
 "metadata": {
  "kernelspec": {
   "display_name": "Python 3",
   "language": "python",
   "name": "python3"
  },
  "language_info": {
   "codemirror_mode": {
    "name": "ipython",
    "version": 3
   },
   "file_extension": ".py",
   "mimetype": "text/x-python",
   "name": "python",
   "nbconvert_exporter": "python",
   "pygments_lexer": "ipython3",
   "version": "3.11.7"
  }
 },
 "nbformat": 4,
 "nbformat_minor": 2
}
